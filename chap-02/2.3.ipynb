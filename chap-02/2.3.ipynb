{
 "cells": [
  {
   "cell_type": "markdown",
   "source": [
    "# 2.3 튜플은 단순한 불변 리스트가 아니다\n",
    "* 필드명이 없는 레코드로 사용할 수 도 있다.\n"
   ],
   "metadata": {
    "collapsed": false
   }
  },
  {
   "cell_type": "markdown",
   "source": [
    "# 2.3.2 튜플 언패킹\n"
   ],
   "metadata": {
    "collapsed": false
   }
  },
  {
   "cell_type": "code",
   "execution_count": 2,
   "outputs": [
    {
     "data": {
      "text/plain": "33.94"
     },
     "execution_count": 2,
     "metadata": {},
     "output_type": "execute_result"
    }
   ],
   "source": [
    "import collections\n",
    "\n",
    "lax_coord = (33.94, -118.40)\n",
    "latitude, longitude = lax_coord\n",
    "latitude\n"
   ],
   "metadata": {
    "collapsed": false,
    "ExecuteTime": {
     "end_time": "2023-11-13T11:42:36.184023100Z",
     "start_time": "2023-11-13T11:42:36.167466900Z"
    }
   }
  },
  {
   "cell_type": "code",
   "execution_count": 6,
   "outputs": [
    {
     "data": {
      "text/plain": "(2, 1)"
     },
     "execution_count": 6,
     "metadata": {},
     "output_type": "execute_result"
    }
   ],
   "source": [
    "a = 1\n",
    "b = 2\n",
    "a, b = b, a\n",
    "a, b\n"
   ],
   "metadata": {
    "collapsed": false,
    "ExecuteTime": {
     "end_time": "2023-11-13T11:44:34.286427300Z",
     "start_time": "2023-11-13T11:44:34.268366800Z"
    }
   }
  },
  {
   "cell_type": "code",
   "execution_count": 4,
   "outputs": [
    {
     "data": {
      "text/plain": "(2, 4)"
     },
     "execution_count": 4,
     "metadata": {},
     "output_type": "execute_result"
    }
   ],
   "source": [
    "divmod(20, 8)\n"
   ],
   "metadata": {
    "collapsed": false,
    "ExecuteTime": {
     "end_time": "2023-11-13T11:43:32.722924400Z",
     "start_time": "2023-11-13T11:43:32.705686400Z"
    }
   }
  },
  {
   "cell_type": "code",
   "execution_count": 7,
   "outputs": [
    {
     "data": {
      "text/plain": "(2, 4)"
     },
     "execution_count": 7,
     "metadata": {},
     "output_type": "execute_result"
    }
   ],
   "source": [
    "t = (20, 8)\n",
    "quotient, remainder = divmod(*t)  # tuple unpacking\n",
    "quotient, remainder\n"
   ],
   "metadata": {
    "collapsed": false,
    "ExecuteTime": {
     "end_time": "2023-11-13T11:45:12.569906300Z",
     "start_time": "2023-11-13T11:45:12.553568900Z"
    }
   }
  },
  {
   "cell_type": "code",
   "execution_count": 8,
   "outputs": [
    {
     "data": {
      "text/plain": "'rsa.pub'"
     },
     "execution_count": 8,
     "metadata": {},
     "output_type": "execute_result"
    }
   ],
   "source": [
    "import os\n",
    "\n",
    "_, filename = os.path.split('/home/windbird/.ssh/rsa.pub')\n",
    "filename\n"
   ],
   "metadata": {
    "collapsed": false,
    "ExecuteTime": {
     "end_time": "2023-11-13T11:46:42.819614300Z",
     "start_time": "2023-11-13T11:46:42.753939300Z"
    }
   }
  },
  {
   "cell_type": "code",
   "execution_count": 9,
   "outputs": [
    {
     "data": {
      "text/plain": "(0, 1, [2, 3, 4])"
     },
     "execution_count": 9,
     "metadata": {},
     "output_type": "execute_result"
    }
   ],
   "source": [
    "a, b, *rest = range(5)\n",
    "a, b, rest\n"
   ],
   "metadata": {
    "collapsed": false,
    "ExecuteTime": {
     "end_time": "2023-11-13T11:47:14.835655600Z",
     "start_time": "2023-11-13T11:47:14.771423Z"
    }
   }
  },
  {
   "cell_type": "code",
   "execution_count": 10,
   "outputs": [
    {
     "data": {
      "text/plain": "(0, 1, [])"
     },
     "execution_count": 10,
     "metadata": {},
     "output_type": "execute_result"
    }
   ],
   "source": [
    "a, b, *rest = range(2)\n",
    "a, b, rest\n"
   ],
   "metadata": {
    "collapsed": false,
    "ExecuteTime": {
     "end_time": "2023-11-13T11:47:51.178684600Z",
     "start_time": "2023-11-13T11:47:51.163035800Z"
    }
   }
  },
  {
   "cell_type": "code",
   "execution_count": 11,
   "outputs": [
    {
     "data": {
      "text/plain": "(0, [1, 2], 3, 4)"
     },
     "execution_count": 11,
     "metadata": {},
     "output_type": "execute_result"
    }
   ],
   "source": [
    "a, *body, c, d = range(5)\n",
    "a, body, c, d\n"
   ],
   "metadata": {
    "collapsed": false,
    "ExecuteTime": {
     "end_time": "2023-11-13T11:48:36.050022600Z",
     "start_time": "2023-11-13T11:48:36.016304Z"
    }
   }
  },
  {
   "cell_type": "code",
   "execution_count": 12,
   "outputs": [
    {
     "data": {
      "text/plain": "([0, 1], 2, 3, 4)"
     },
     "execution_count": 12,
     "metadata": {},
     "output_type": "execute_result"
    }
   ],
   "source": [
    "*head, b, c, d = range(5)\n",
    "head, b, c, d\n"
   ],
   "metadata": {
    "collapsed": false,
    "ExecuteTime": {
     "end_time": "2023-11-13T11:48:57.295904800Z",
     "start_time": "2023-11-13T11:48:57.260556800Z"
    }
   }
  },
  {
   "cell_type": "markdown",
   "source": [
    "# 2.3.4 명명된 튜플 (named tuple)\n",
    "* 튜플은 편리하지만, 레코드로 사용하기에는 부족한 점이 있다. 때로는 필드 이름이 필요할 수 있는데, 이를 위해 `namedtuple()` 이 만들어 졌다.\n",
    "* `class` 객체는 `__dict__` 에 속성을 저장하는데, `namedtuple` 는 이럴 필요가 없어 일반적인 객체보다 메모리를 적게 사용한다.\n"
   ],
   "metadata": {
    "collapsed": false
   }
  },
  {
   "cell_type": "code",
   "execution_count": 14,
   "outputs": [
    {
     "data": {
      "text/plain": "City(name='Tokyo', country='JP', population=36.933, coordinates=(35.68, 139.69))"
     },
     "execution_count": 14,
     "metadata": {},
     "output_type": "execute_result"
    }
   ],
   "source": [
    "import collections\n",
    "\n",
    "City = collections.namedtuple('City', ['name', 'country', 'population', 'coordinates'])\n",
    "tokyo = City('Tokyo', 'JP', 36.933, (35.68, 139.69))\n",
    "tokyo\n"
   ],
   "metadata": {
    "collapsed": false,
    "ExecuteTime": {
     "end_time": "2023-11-13T11:58:50.800923Z",
     "start_time": "2023-11-13T11:58:50.773165900Z"
    }
   }
  },
  {
   "cell_type": "code",
   "execution_count": 15,
   "outputs": [
    {
     "data": {
      "text/plain": "36.933"
     },
     "execution_count": 15,
     "metadata": {},
     "output_type": "execute_result"
    }
   ],
   "source": [
    "tokyo.population\n"
   ],
   "metadata": {
    "collapsed": false,
    "ExecuteTime": {
     "end_time": "2023-11-13T11:59:20.412494Z",
     "start_time": "2023-11-13T11:59:20.396033500Z"
    }
   }
  },
  {
   "cell_type": "code",
   "execution_count": 16,
   "outputs": [
    {
     "data": {
      "text/plain": "(35.68, 139.69)"
     },
     "execution_count": 16,
     "metadata": {},
     "output_type": "execute_result"
    }
   ],
   "source": [
    "tokyo.coordinates\n"
   ],
   "metadata": {
    "collapsed": false,
    "ExecuteTime": {
     "end_time": "2023-11-13T11:59:34.736196800Z",
     "start_time": "2023-11-13T11:59:34.722696400Z"
    }
   }
  },
  {
   "cell_type": "code",
   "execution_count": 17,
   "outputs": [
    {
     "data": {
      "text/plain": "'JP'"
     },
     "execution_count": 17,
     "metadata": {},
     "output_type": "execute_result"
    }
   ],
   "source": [
    "tokyo[1]\n"
   ],
   "metadata": {
    "collapsed": false,
    "ExecuteTime": {
     "end_time": "2023-11-13T11:59:40.647152900Z",
     "start_time": "2023-11-13T11:59:40.608828800Z"
    }
   }
  },
  {
   "cell_type": "code",
   "execution_count": 18,
   "outputs": [
    {
     "data": {
      "text/plain": "('name', 'country', 'population', 'coordinates')"
     },
     "execution_count": 18,
     "metadata": {},
     "output_type": "execute_result"
    }
   ],
   "source": [
    "City._fields\n"
   ],
   "metadata": {
    "collapsed": false,
    "ExecuteTime": {
     "end_time": "2023-11-13T12:00:17.957406200Z",
     "start_time": "2023-11-13T12:00:17.939289Z"
    }
   }
  },
  {
   "cell_type": "code",
   "execution_count": 19,
   "outputs": [
    {
     "data": {
      "text/plain": "{'name': 'Tokyo',\n 'country': 'JP',\n 'population': 36.933,\n 'coordinates': (35.68, 139.69)}"
     },
     "execution_count": 19,
     "metadata": {},
     "output_type": "execute_result"
    }
   ],
   "source": [
    "tokyo._asdict()\n"
   ],
   "metadata": {
    "collapsed": false,
    "ExecuteTime": {
     "end_time": "2023-11-13T12:00:43.575423100Z",
     "start_time": "2023-11-13T12:00:43.558598700Z"
    }
   }
  },
  {
   "cell_type": "code",
   "execution_count": 20,
   "outputs": [
    {
     "name": "stdout",
     "output_type": "stream",
     "text": [
      "name: Tokyo\n",
      "country: JP\n",
      "population: 36.933\n",
      "coordinates: (35.68, 139.69)\n"
     ]
    }
   ],
   "source": [
    "for key, value in tokyo._asdict().items():\n",
    "    print(f\"{key}: {value}\")\n"
   ],
   "metadata": {
    "collapsed": false,
    "ExecuteTime": {
     "end_time": "2023-11-13T12:01:37.888053200Z",
     "start_time": "2023-11-13T12:01:37.856108100Z"
    }
   }
  },
  {
   "cell_type": "markdown",
   "source": [
    "# 2.3.5 불변 리스트로서의 튜플\n",
    "* `s.__getitem__(p)`: s[p], 즉 p 위치의 요소를 가져온다.\n",
    "* `s.__iter__()`: 반복자를 가져온다.\n",
    "* `s.__rmul__(n)`: n*s, 즉 역순 반복 추가 메서드\n"
   ],
   "metadata": {
    "collapsed": false
   }
  }
 ],
 "metadata": {
  "kernelspec": {
   "display_name": "Python 3",
   "language": "python",
   "name": "python3"
  },
  "language_info": {
   "codemirror_mode": {
    "name": "ipython",
    "version": 2
   },
   "file_extension": ".py",
   "mimetype": "text/x-python",
   "name": "python",
   "nbconvert_exporter": "python",
   "pygments_lexer": "ipython2",
   "version": "2.7.6"
  }
 },
 "nbformat": 4,
 "nbformat_minor": 0
}
