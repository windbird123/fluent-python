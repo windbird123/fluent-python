{
 "cells": [
  {
   "cell_type": "markdown",
   "source": [
    "# 2.7 list.sort() 와 sorted() 내장 함수\n",
    "* list.sort() 는 내부를 변경해 정렬하고, None 을 리턴한다.\n",
    "* 객체가 변경되었고 새로운 객체가 생성되지 않았음을 호출자에게 알려주기 위해 None 을 리턴하는 것은 파이썬의 중요한 관례이다.\n",
    "* `random.shuffle()` 도 위의 관례대로 동작한다."
   ],
   "metadata": {
    "collapsed": false
   }
  },
  {
   "cell_type": "code",
   "execution_count": 1,
   "outputs": [
    {
     "data": {
      "text/plain": "['a', 'bc', 'def']"
     },
     "execution_count": 1,
     "metadata": {},
     "output_type": "execute_result"
    }
   ],
   "source": [
    "l = ['bc', 'a', 'def']\n",
    "sorted(l)\n"
   ],
   "metadata": {
    "collapsed": false,
    "ExecuteTime": {
     "end_time": "2023-11-13T13:03:44.047903Z",
     "start_time": "2023-11-13T13:03:44.018233400Z"
    }
   }
  },
  {
   "cell_type": "code",
   "execution_count": 3,
   "outputs": [
    {
     "data": {
      "text/plain": "['def', 'bc', 'a']"
     },
     "execution_count": 3,
     "metadata": {},
     "output_type": "execute_result"
    }
   ],
   "source": [
    "sorted(l, key=len, reverse=True)\n"
   ],
   "metadata": {
    "collapsed": false,
    "ExecuteTime": {
     "end_time": "2023-11-13T13:04:08.695607400Z",
     "start_time": "2023-11-13T13:04:08.679231500Z"
    }
   }
  },
  {
   "cell_type": "code",
   "execution_count": 4,
   "outputs": [
    {
     "data": {
      "text/plain": "['a', 'bc', 'def']"
     },
     "execution_count": 4,
     "metadata": {},
     "output_type": "execute_result"
    }
   ],
   "source": [
    "l.sort()\n",
    "l\n"
   ],
   "metadata": {
    "collapsed": false,
    "ExecuteTime": {
     "end_time": "2023-11-13T13:04:27.630866900Z",
     "start_time": "2023-11-13T13:04:27.619677800Z"
    }
   }
  }
 ],
 "metadata": {
  "kernelspec": {
   "display_name": "Python 3",
   "language": "python",
   "name": "python3"
  },
  "language_info": {
   "codemirror_mode": {
    "name": "ipython",
    "version": 2
   },
   "file_extension": ".py",
   "mimetype": "text/x-python",
   "name": "python",
   "nbconvert_exporter": "python",
   "pygments_lexer": "ipython2",
   "version": "2.7.6"
  }
 },
 "nbformat": 4,
 "nbformat_minor": 0
}
