{
 "cells": [
  {
   "cell_type": "markdown",
   "source": [
    "# 2.6 시퀀스의 복합 할당\n",
    "* `+=` 연산자를 작동하게 만드는 특수 메서드는 `__iadd__()` 다. (i 는 in-place 의미)\n",
    "* `__iadd__()` 가 없으면, 대신 `__add__()` 메서드를 사용한다.\n",
    "* `*=` 연산자의 경우는 `__imul__()` 메서드를 통해 구현된다.\n",
    "* 불변 시퀀스의 경우에는 `+=`, `*=` 를 수행하지 말자.."
   ],
   "metadata": {
    "collapsed": false
   }
  },
  {
   "cell_type": "code",
   "execution_count": 1,
   "outputs": [
    {
     "data": {
      "text/plain": "2684137414016"
     },
     "execution_count": 1,
     "metadata": {},
     "output_type": "execute_result"
    }
   ],
   "source": [
    "l = [1, 2]\n",
    "id(l)\n"
   ],
   "metadata": {
    "collapsed": false,
    "ExecuteTime": {
     "end_time": "2023-11-13T12:53:44.105445800Z",
     "start_time": "2023-11-13T12:53:44.088912200Z"
    }
   }
  },
  {
   "cell_type": "code",
   "execution_count": 2,
   "outputs": [
    {
     "data": {
      "text/plain": "[1, 2, 1, 2]"
     },
     "execution_count": 2,
     "metadata": {},
     "output_type": "execute_result"
    }
   ],
   "source": [
    "l *= 2\n",
    "l\n"
   ],
   "metadata": {
    "collapsed": false,
    "ExecuteTime": {
     "end_time": "2023-11-13T12:54:04.425982Z",
     "start_time": "2023-11-13T12:54:04.407413900Z"
    }
   }
  },
  {
   "cell_type": "code",
   "execution_count": 3,
   "outputs": [
    {
     "data": {
      "text/plain": "2684137414016"
     },
     "execution_count": 3,
     "metadata": {},
     "output_type": "execute_result"
    }
   ],
   "source": [
    "id(l)  # 기존 객체와 동일함\n"
   ],
   "metadata": {
    "collapsed": false,
    "ExecuteTime": {
     "end_time": "2023-11-13T12:54:21.480634400Z",
     "start_time": "2023-11-13T12:54:21.464310400Z"
    }
   }
  },
  {
   "cell_type": "markdown",
   "source": [
    "#### 그러나 tuple 의 경우에는"
   ],
   "metadata": {
    "collapsed": false
   }
  },
  {
   "cell_type": "code",
   "execution_count": 4,
   "outputs": [
    {
     "data": {
      "text/plain": "2684136447488"
     },
     "execution_count": 4,
     "metadata": {},
     "output_type": "execute_result"
    }
   ],
   "source": [
    "t = (1, 2)\n",
    "id(t)\n"
   ],
   "metadata": {
    "collapsed": false,
    "ExecuteTime": {
     "end_time": "2023-11-13T12:55:31.803290100Z",
     "start_time": "2023-11-13T12:55:31.786596800Z"
    }
   }
  },
  {
   "cell_type": "code",
   "execution_count": 6,
   "outputs": [
    {
     "data": {
      "text/plain": "(1, 2, 1, 2, 1, 2, 1, 2)"
     },
     "execution_count": 6,
     "metadata": {},
     "output_type": "execute_result"
    }
   ],
   "source": [
    "t *= 2\n",
    "t\n"
   ],
   "metadata": {
    "collapsed": false,
    "ExecuteTime": {
     "end_time": "2023-11-13T12:55:46.543930800Z",
     "start_time": "2023-11-13T12:55:46.511863600Z"
    }
   }
  },
  {
   "cell_type": "code",
   "execution_count": 7,
   "outputs": [
    {
     "data": {
      "text/plain": "2684137531408"
     },
     "execution_count": 7,
     "metadata": {},
     "output_type": "execute_result"
    }
   ],
   "source": [
    "id(t)  # 새로운 tuple 객체가 만들어졌다!\n"
   ],
   "metadata": {
    "collapsed": false,
    "ExecuteTime": {
     "end_time": "2023-11-13T12:55:53.324594200Z",
     "start_time": "2023-11-13T12:55:53.324594200Z"
    }
   }
  }
 ],
 "metadata": {
  "kernelspec": {
   "display_name": "Python 3",
   "language": "python",
   "name": "python3"
  },
  "language_info": {
   "codemirror_mode": {
    "name": "ipython",
    "version": 2
   },
   "file_extension": ".py",
   "mimetype": "text/x-python",
   "name": "python",
   "nbconvert_exporter": "python",
   "pygments_lexer": "ipython2",
   "version": "2.7.6"
  }
 },
 "nbformat": 4,
 "nbformat_minor": 0
}
