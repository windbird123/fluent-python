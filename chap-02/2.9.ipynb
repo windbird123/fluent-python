{
 "cells": [
  {
   "cell_type": "markdown",
   "source": [
    "# 2.9 리스트가 답이 아닐 때\n",
    "* 예를 들어 실수를 천만개 저장할때는 리스트 보다는 배열(`array.array`)이 더 효율적이다.\n",
    "* 리스트의 양쪽 끝ㅔ 항목을 계속 추가하거나 삭제하면서 FIFO 나 LIFO 데이터 구조에는 `deque` 이 더 좋다.\n"
   ],
   "metadata": {
    "collapsed": false
   }
  },
  {
   "cell_type": "markdown",
   "source": [
    "# 2.9.1 배열 (array)\n",
    "* 리스트 안에 숫자만 들어 있다면 배열이 리스트 보다 효율적이다.\n",
    "* 배열은 가변 시퀀스에서 제공하는 모든 메서드를 지원하며, 파일에서 읽고, 저장할 수 있는 `frombytes()`, `tofile()` 메서드도 추가로 제공한다.\n"
   ],
   "metadata": {
    "collapsed": false
   }
  },
  {
   "cell_type": "code",
   "execution_count": 6,
   "outputs": [
    {
     "data": {
      "text/plain": "0.41956463212095685"
     },
     "execution_count": 6,
     "metadata": {},
     "output_type": "execute_result"
    }
   ],
   "source": [
    "from array import array\n",
    "from random import random\n",
    "\n",
    "floats: array = array('d', (random() for i in range(10**6)))  # d: double\n",
    "floats[-1]\n"
   ],
   "metadata": {
    "collapsed": false,
    "ExecuteTime": {
     "end_time": "2023-11-14T06:49:40.121590900Z",
     "start_time": "2023-11-14T06:49:39.996716400Z"
    }
   }
  },
  {
   "cell_type": "code",
   "execution_count": 7,
   "outputs": [],
   "source": [
    "with open('floats.bin', 'wb') as f:\n",
    "    floats.tofile(f)\n"
   ],
   "metadata": {
    "collapsed": false,
    "ExecuteTime": {
     "end_time": "2023-11-14T06:49:47.947192500Z",
     "start_time": "2023-11-14T06:49:47.921501400Z"
    }
   }
  },
  {
   "cell_type": "code",
   "execution_count": 8,
   "outputs": [
    {
     "data": {
      "text/plain": "0.41956463212095685"
     },
     "execution_count": 8,
     "metadata": {},
     "output_type": "execute_result"
    }
   ],
   "source": [
    "floats2: array = array('d')  # d: double\n",
    "\n",
    "with open('floats.bin', 'rb') as f:\n",
    "    floats2.fromfile(f, 10**6)\n",
    "\n",
    "floats2[-1]\n"
   ],
   "metadata": {
    "collapsed": false,
    "ExecuteTime": {
     "end_time": "2023-11-14T06:49:55.343545400Z",
     "start_time": "2023-11-14T06:49:55.326802Z"
    }
   }
  },
  {
   "cell_type": "code",
   "execution_count": 9,
   "outputs": [
    {
     "data": {
      "text/plain": "True"
     },
     "execution_count": 9,
     "metadata": {},
     "output_type": "execute_result"
    }
   ],
   "source": [
    "floats == floats2  # 배열의 내용이 일치함\n"
   ],
   "metadata": {
    "collapsed": false,
    "ExecuteTime": {
     "end_time": "2023-11-14T06:50:49.084727100Z",
     "start_time": "2023-11-14T06:50:49.037150300Z"
    }
   }
  },
  {
   "cell_type": "markdown",
   "source": [
    "#### 정리하면\n",
    "* 위의 코드 실행해 보면 매우 빠르다!\n",
    "* 정렬된 배열을 유지하면서 항목을 추가하려면 `bisect.insort()` 를 사용하라.\n"
   ],
   "metadata": {
    "collapsed": false
   }
  },
  {
   "cell_type": "markdown",
   "source": [
    "# 2.9.2 메모리 뷰\n",
    "* `memoryview.cast()` 메서드는 바이트를 이동시키지 않고 C 언어의 형변환 연산자처럼 여러 바이트로 된 데이터를 읽거나 쓰는 방식을 바꿀 수 있게 해 준다.\n"
   ],
   "metadata": {
    "collapsed": false
   }
  },
  {
   "cell_type": "code",
   "execution_count": 10,
   "outputs": [
    {
     "data": {
      "text/plain": "5"
     },
     "execution_count": 10,
     "metadata": {},
     "output_type": "execute_result"
    }
   ],
   "source": [
    "from array import array\n",
    "\n",
    "numbers = array('h', [-2, -1, 0, 1, 2])  # h: signed char\n",
    "memv = memoryview(numbers)\n",
    "len(memv)\n"
   ],
   "metadata": {
    "collapsed": false,
    "ExecuteTime": {
     "end_time": "2023-11-14T07:06:53.450311Z",
     "start_time": "2023-11-14T07:06:53.432683900Z"
    }
   }
  },
  {
   "cell_type": "code",
   "execution_count": 11,
   "outputs": [
    {
     "data": {
      "text/plain": "-2"
     },
     "execution_count": 11,
     "metadata": {},
     "output_type": "execute_result"
    }
   ],
   "source": [
    "memv[0]\n"
   ],
   "metadata": {
    "collapsed": false,
    "ExecuteTime": {
     "end_time": "2023-11-14T07:07:02.006376500Z",
     "start_time": "2023-11-14T07:07:01.956958400Z"
    }
   }
  },
  {
   "cell_type": "code",
   "execution_count": 12,
   "outputs": [
    {
     "data": {
      "text/plain": "[254, 255, 255, 255, 0, 0, 1, 0, 2, 0]"
     },
     "execution_count": 12,
     "metadata": {},
     "output_type": "execute_result"
    }
   ],
   "source": [
    "memv_oct = memv.cast('B')  # B: unsigned char\n",
    "memv_oct.tolist()\n"
   ],
   "metadata": {
    "collapsed": false,
    "ExecuteTime": {
     "end_time": "2023-11-14T07:07:59.567128400Z",
     "start_time": "2023-11-14T07:07:59.552282900Z"
    }
   }
  },
  {
   "cell_type": "code",
   "execution_count": 13,
   "outputs": [
    {
     "data": {
      "text/plain": "array('h', [-2, -1, 1024, 1, 2])"
     },
     "execution_count": 13,
     "metadata": {},
     "output_type": "execute_result"
    }
   ],
   "source": [
    "memv_oct[5] = 4\n",
    "numbers  # 00000000_00000000 --> 00000100_00000000 = 1024\n"
   ],
   "metadata": {
    "collapsed": false,
    "ExecuteTime": {
     "end_time": "2023-11-14T07:09:43.027228300Z",
     "start_time": "2023-11-14T07:09:42.978834500Z"
    }
   }
  },
  {
   "cell_type": "markdown",
   "source": [
    "# 2.9.4 덱 및 기타 큐\n"
   ],
   "metadata": {
    "collapsed": false
   }
  },
  {
   "cell_type": "code",
   "execution_count": 22,
   "outputs": [
    {
     "data": {
      "text/plain": "deque([0, 1, 2, 3, 4, 5, 6, 7, 8, 9], maxlen=10)"
     },
     "execution_count": 22,
     "metadata": {},
     "output_type": "execute_result"
    }
   ],
   "source": [
    "from collections import deque\n",
    "\n",
    "dq = deque(range(10), maxlen=10)\n",
    "dq\n"
   ],
   "metadata": {
    "collapsed": false,
    "ExecuteTime": {
     "end_time": "2023-11-14T07:22:05.418585700Z",
     "start_time": "2023-11-14T07:22:05.399786200Z"
    }
   }
  },
  {
   "cell_type": "code",
   "execution_count": 23,
   "outputs": [
    {
     "data": {
      "text/plain": "deque([7, 8, 9, 0, 1, 2, 3, 4, 5, 6], maxlen=10)"
     },
     "execution_count": 23,
     "metadata": {},
     "output_type": "execute_result"
    }
   ],
   "source": [
    "dq.rotate(3)\n",
    "dq\n"
   ],
   "metadata": {
    "collapsed": false,
    "ExecuteTime": {
     "end_time": "2023-11-14T07:22:07.768542500Z",
     "start_time": "2023-11-14T07:22:07.752736100Z"
    }
   }
  },
  {
   "cell_type": "code",
   "execution_count": 24,
   "outputs": [
    {
     "data": {
      "text/plain": "deque([1, 2, 3, 4, 5, 6, 7, 8, 9, 0], maxlen=10)"
     },
     "execution_count": 24,
     "metadata": {},
     "output_type": "execute_result"
    }
   ],
   "source": [
    "dq.rotate(-4)\n",
    "dq\n"
   ],
   "metadata": {
    "collapsed": false,
    "ExecuteTime": {
     "end_time": "2023-11-14T07:22:16.720577200Z",
     "start_time": "2023-11-14T07:22:16.706768100Z"
    }
   }
  },
  {
   "cell_type": "code",
   "execution_count": 25,
   "outputs": [
    {
     "data": {
      "text/plain": "deque([-1, 1, 2, 3, 4, 5, 6, 7, 8, 9], maxlen=10)"
     },
     "execution_count": 25,
     "metadata": {},
     "output_type": "execute_result"
    }
   ],
   "source": [
    "dq.appendleft(-1)\n",
    "dq\n"
   ],
   "metadata": {
    "collapsed": false,
    "ExecuteTime": {
     "end_time": "2023-11-14T07:22:20.522948Z",
     "start_time": "2023-11-14T07:22:20.506439300Z"
    }
   }
  },
  {
   "cell_type": "code",
   "execution_count": 26,
   "outputs": [
    {
     "data": {
      "text/plain": "deque([3, 4, 5, 6, 7, 8, 9, 11, 22, 33], maxlen=10)"
     },
     "execution_count": 26,
     "metadata": {},
     "output_type": "execute_result"
    }
   ],
   "source": [
    "dq.extend([11, 22, 33])\n",
    "dq\n"
   ],
   "metadata": {
    "collapsed": false,
    "ExecuteTime": {
     "end_time": "2023-11-14T07:22:23.247193500Z",
     "start_time": "2023-11-14T07:22:23.228204400Z"
    }
   }
  },
  {
   "cell_type": "code",
   "execution_count": 27,
   "outputs": [
    {
     "data": {
      "text/plain": "deque([30, 20, 10, 3, 4, 5, 6, 7, 8, 9], maxlen=10)"
     },
     "execution_count": 27,
     "metadata": {},
     "output_type": "execute_result"
    }
   ],
   "source": [
    "dq.extendleft([10, 20, 30])\n",
    "dq\n"
   ],
   "metadata": {
    "collapsed": false,
    "ExecuteTime": {
     "end_time": "2023-11-14T07:22:28.379914200Z",
     "start_time": "2023-11-14T07:22:28.364217Z"
    }
   }
  },
  {
   "cell_type": "markdown",
   "source": [
    "#### deque 는\n",
    "* 양쪽 끝에 추가나 제거하는 연산에 최적화되어 있다.\n",
    "* 중간 항목을 삭제하는 연산은 빠르지 않다.\n",
    "* `append()`, `popleft()` 는 `thread-safe` 하므로 Lock 사용 없이 간단히 FIFO 큐를 구현할 수 있다.\n"
   ],
   "metadata": {
    "collapsed": false
   }
  }
 ],
 "metadata": {
  "kernelspec": {
   "display_name": "Python 3",
   "language": "python",
   "name": "python3"
  },
  "language_info": {
   "codemirror_mode": {
    "name": "ipython",
    "version": 2
   },
   "file_extension": ".py",
   "mimetype": "text/x-python",
   "name": "python",
   "nbconvert_exporter": "python",
   "pygments_lexer": "ipython2",
   "version": "2.7.6"
  }
 },
 "nbformat": 4,
 "nbformat_minor": 0
}
