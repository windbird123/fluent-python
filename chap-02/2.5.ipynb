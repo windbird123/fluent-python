{
 "cells": [
  {
   "cell_type": "markdown",
   "source": [
    "# 2.5 시퀀스에 덧셈과 곱셈 연산자 사용하기\n"
   ],
   "metadata": {
    "collapsed": false
   }
  },
  {
   "cell_type": "code",
   "execution_count": 1,
   "outputs": [
    {
     "data": {
      "text/plain": "[1, 2, 3, 1, 2, 3, 1, 2, 3]"
     },
     "execution_count": 1,
     "metadata": {},
     "output_type": "execute_result"
    }
   ],
   "source": [
    "l = [1, 2, 3]\n",
    "l * 3\n"
   ],
   "metadata": {
    "collapsed": false,
    "ExecuteTime": {
     "end_time": "2023-11-13T12:30:47.643980Z",
     "start_time": "2023-11-13T12:30:47.615473100Z"
    }
   }
  },
  {
   "cell_type": "code",
   "execution_count": 2,
   "outputs": [
    {
     "data": {
      "text/plain": "'abcabcabcabcabc'"
     },
     "execution_count": 2,
     "metadata": {},
     "output_type": "execute_result"
    }
   ],
   "source": [
    "5 * 'abc'\n"
   ],
   "metadata": {
    "collapsed": false,
    "ExecuteTime": {
     "end_time": "2023-11-13T12:30:59.102714900Z",
     "start_time": "2023-11-13T12:30:59.088252500Z"
    }
   }
  },
  {
   "cell_type": "markdown",
   "source": [
    "# 2.5.1 리스트의 리스트 만들기\n"
   ],
   "metadata": {
    "collapsed": false
   }
  },
  {
   "cell_type": "code",
   "execution_count": 3,
   "outputs": [
    {
     "data": {
      "text/plain": "[['_', '_'], ['_', '_']]"
     },
     "execution_count": 3,
     "metadata": {},
     "output_type": "execute_result"
    }
   ],
   "source": [
    "board = [['_'] * 2 for i in range(2)]\n",
    "board\n"
   ],
   "metadata": {
    "collapsed": false,
    "ExecuteTime": {
     "end_time": "2023-11-13T12:32:42.806548800Z",
     "start_time": "2023-11-13T12:32:42.753387200Z"
    }
   }
  },
  {
   "cell_type": "code",
   "execution_count": 6,
   "outputs": [
    {
     "data": {
      "text/plain": "[['_', '_'], ['_', 'X']]"
     },
     "execution_count": 6,
     "metadata": {},
     "output_type": "execute_result"
    }
   ],
   "source": [
    "board[1][1] = 'X'\n",
    "board\n"
   ],
   "metadata": {
    "collapsed": false,
    "ExecuteTime": {
     "end_time": "2023-11-13T12:33:22.708698600Z",
     "start_time": "2023-11-13T12:33:22.691384Z"
    }
   }
  },
  {
   "cell_type": "markdown",
   "source": [
    "#### 위와 같이 지능형 리스트를 사용하는 것이 가장 좋은데, 아래처럼 하는 것은 잘못된 코드이다."
   ],
   "metadata": {
    "collapsed": false
   }
  },
  {
   "cell_type": "code",
   "execution_count": 7,
   "outputs": [
    {
     "data": {
      "text/plain": "[['_', '_'], ['_', '_']]"
     },
     "execution_count": 7,
     "metadata": {},
     "output_type": "execute_result"
    }
   ],
   "source": [
    "weird_board = [['_'] * 2] * 2\n",
    "weird_board\n"
   ],
   "metadata": {
    "collapsed": false,
    "ExecuteTime": {
     "end_time": "2023-11-13T12:35:19.865491Z",
     "start_time": "2023-11-13T12:35:19.843936400Z"
    }
   }
  },
  {
   "cell_type": "code",
   "execution_count": 8,
   "outputs": [
    {
     "data": {
      "text/plain": "[['_', 'X'], ['_', 'X']]"
     },
     "execution_count": 8,
     "metadata": {},
     "output_type": "execute_result"
    }
   ],
   "source": [
    "weird_board[1][1] = 'X'\n",
    "weird_board  # 결과를 보면 weird_board[0][1] 도 X 값이 되어 버렸다!\n"
   ],
   "metadata": {
    "collapsed": false,
    "ExecuteTime": {
     "end_time": "2023-11-13T12:35:42.797491800Z",
     "start_time": "2023-11-13T12:35:42.778735600Z"
    }
   }
  },
  {
   "cell_type": "code",
   "execution_count": 9,
   "outputs": [
    {
     "data": {
      "text/plain": "[['_', 'X'], ['_', 'X']]"
     },
     "execution_count": 9,
     "metadata": {},
     "output_type": "execute_result"
    }
   ],
   "source": [
    "# 위의 잘못된 코드는 다음과 같이 작동한다.\n",
    "row = ['_'] * 2\n",
    "board = []\n",
    "\n",
    "for i in range(2):\n",
    "    board.append(row)\n",
    "\n",
    "board[1][1] = 'X'\n",
    "board\n"
   ],
   "metadata": {
    "collapsed": false,
    "ExecuteTime": {
     "end_time": "2023-11-13T12:42:27.922705600Z",
     "start_time": "2023-11-13T12:42:27.912909500Z"
    }
   }
  }
 ],
 "metadata": {
  "kernelspec": {
   "display_name": "Python 3",
   "language": "python",
   "name": "python3"
  },
  "language_info": {
   "codemirror_mode": {
    "name": "ipython",
    "version": 2
   },
   "file_extension": ".py",
   "mimetype": "text/x-python",
   "name": "python",
   "nbconvert_exporter": "python",
   "pygments_lexer": "ipython2",
   "version": "2.7.6"
  }
 },
 "nbformat": 4,
 "nbformat_minor": 0
}
