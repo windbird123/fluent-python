{
 "cells": [
  {
   "cell_type": "markdown",
   "source": [
    "# 2.1 내장 시퀀스 개요\n",
    "## 자료형에 따라 분류하면\n",
    "#### 컨테이너 시퀀스 (서로 다른 자료형을 담을 수 있음)\n",
    "* list, tuple, collections, deque 형\n",
    "\n",
    "#### 균일 시퀀스 (단 하나의 자료형만 당을 수 있음)\n",
    "* str, bytes, bytearray, memoryview, array.array 형\n",
    "\n",
    "\n",
    "## 가변성에 따라 분류하면\n",
    "#### 가변 시퀀스\n",
    "* list, bytearray, array.array, collections, deque, memoryview 형\n",
    "#### 불변 시퀀스\n",
    "* tuple, str, bytes 형\n"
   ],
   "metadata": {
    "collapsed": false
   }
  }
 ],
 "metadata": {
  "kernelspec": {
   "display_name": "Python 3",
   "language": "python",
   "name": "python3"
  },
  "language_info": {
   "codemirror_mode": {
    "name": "ipython",
    "version": 2
   },
   "file_extension": ".py",
   "mimetype": "text/x-python",
   "name": "python",
   "nbconvert_exporter": "python",
   "pygments_lexer": "ipython2",
   "version": "2.7.6"
  }
 },
 "nbformat": 4,
 "nbformat_minor": 0
}
