{
 "cells": [
  {
   "cell_type": "markdown",
   "source": [
    "# 2.2 지능형 리스트와 제너레이터 표현식\n",
    "* 지능형 리스트나 제너레이너를 사용하면 가독성 좋은 코드를 작성할 수 있다.\n",
    "* 표현식\n",
    "  * 지능형 리스트: [x for x in ...]\n",
    "  * 제너레이터 표현식: (x for x in ...)\n",
    "  * dictionary 표현식: {x:y for x, y in ...}x\n"
   ],
   "metadata": {
    "collapsed": false
   }
  },
  {
   "cell_type": "markdown",
   "source": [
    "# 2.2.1 지능형 리스트와 가독성\n",
    "가독성 좋은 지능형 리스트 예제를 살펴보자\n"
   ],
   "metadata": {
    "collapsed": false
   }
  },
  {
   "cell_type": "code",
   "execution_count": 2,
   "outputs": [
    {
     "data": {
      "text/plain": "[65, 66, 67, 97, 98, 99]"
     },
     "execution_count": 2,
     "metadata": {},
     "output_type": "execute_result"
    }
   ],
   "source": [
    "symbols = 'ABCabc'\n",
    "codes = [ord(symbol) for symbol in symbols]\n",
    "codes\n"
   ],
   "metadata": {
    "collapsed": false,
    "ExecuteTime": {
     "end_time": "2023-11-13T11:18:36.337867500Z",
     "start_time": "2023-11-13T11:18:36.317627Z"
    }
   }
  },
  {
   "cell_type": "markdown",
   "source": [
    "# 2.2.2 지능형 리스트와 map() / filter() 비교\n"
   ],
   "metadata": {
    "collapsed": false
   }
  },
  {
   "cell_type": "code",
   "execution_count": 3,
   "outputs": [
    {
     "data": {
      "text/plain": "[97, 98, 99]"
     },
     "execution_count": 3,
     "metadata": {},
     "output_type": "execute_result"
    }
   ],
   "source": [
    "# 지능형 리스트로 구현\n",
    "symbols = 'ABCabc'\n",
    "[ord(symbol) for symbol in symbols if ord(symbol) > 90]\n"
   ],
   "metadata": {
    "collapsed": false,
    "ExecuteTime": {
     "end_time": "2023-11-13T11:22:30.670116700Z",
     "start_time": "2023-11-13T11:22:30.651131200Z"
    }
   }
  },
  {
   "cell_type": "code",
   "execution_count": 4,
   "outputs": [
    {
     "data": {
      "text/plain": "[97, 98, 99]"
     },
     "execution_count": 4,
     "metadata": {},
     "output_type": "execute_result"
    }
   ],
   "source": [
    "# map() / filter() 로 구현\n",
    "symbols = 'ABCabc'\n",
    "list(filter(lambda c: c > 90, map(ord, symbols)))\n"
   ],
   "metadata": {
    "collapsed": false,
    "ExecuteTime": {
     "end_time": "2023-11-13T11:24:08.892549700Z",
     "start_time": "2023-11-13T11:24:08.831379500Z"
    }
   }
  },
  {
   "cell_type": "markdown",
   "source": [
    "# 2.2.4 제너레이터 표현식\n",
    "* 제너레이터 표현식은 지능형 리스트와 동일한 구문을 사용하지만, 대괄호 대신 괄호를 사용한다.\n",
    "\n"
   ],
   "metadata": {
    "collapsed": false
   }
  },
  {
   "cell_type": "code",
   "execution_count": 5,
   "outputs": [
    {
     "data": {
      "text/plain": "<generator object <genexpr> at 0x000002C4C33A7300>"
     },
     "execution_count": 5,
     "metadata": {},
     "output_type": "execute_result"
    }
   ],
   "source": [
    "symbols = 'ABCabc'\n",
    "codes = (ord(symbol) for symbol in symbols)\n",
    "codes\n",
    "\n",
    "# 2.2.1 의 지능형 리스트와 달리 리스트의 6개 항목을 메모리 안에 생성하지 않는다.\n",
    "# 제너레이터 표현식은 한번에 한 항목을 생성할 수 있도록 for 루프에 데이터를 전달하기 때문이다.\n"
   ],
   "metadata": {
    "collapsed": false,
    "ExecuteTime": {
     "end_time": "2023-11-13T11:36:27.560879800Z",
     "start_time": "2023-11-13T11:36:27.513677700Z"
    }
   }
  }
 ],
 "metadata": {
  "kernelspec": {
   "display_name": "Python 3",
   "language": "python",
   "name": "python3"
  },
  "language_info": {
   "codemirror_mode": {
    "name": "ipython",
    "version": 2
   },
   "file_extension": ".py",
   "mimetype": "text/x-python",
   "name": "python",
   "nbconvert_exporter": "python",
   "pygments_lexer": "ipython2",
   "version": "2.7.6"
  }
 },
 "nbformat": 4,
 "nbformat_minor": 0
}
