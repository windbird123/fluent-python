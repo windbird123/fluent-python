{
 "cells": [
  {
   "cell_type": "markdown",
   "source": [
    "# 4.1 문자 문제\n",
    "* python3 는 **유니코드 6.3** 표준을 사용한다.\n",
    "* `코드 포인트(code point)` 는 0 ~ 1,114,111 까지의 숫자이며, 유니코드 표준에서는 `U+` 접두사를 붙여 4자이에서 6자리 사이의 16진수로 표현한다.\n",
    "  * 예1) A: U+0041\n",
    "  * 예2) 높은 음자리표: U+1D11E\n",
    "* `인코딩` 은 `코드 포인트` 를 바이트 시퀀스로 변환하는 알고리즘이다.\n",
    "  * 예) A(U+0041) 코드 포인트는 아래와 같이 인코딩 된다.\n",
    "    * UTF-8 인코딩에서는 1바이트 `\\x41`\n",
    "    * UTF-16LE 인코딩에서는 2바이트 `\\x41\\x00`\n"
   ],
   "metadata": {
    "collapsed": false
   }
  },
  {
   "cell_type": "code",
   "execution_count": 6,
   "outputs": [
    {
     "data": {
      "text/plain": "4"
     },
     "execution_count": 6,
     "metadata": {},
     "output_type": "execute_result"
    }
   ],
   "source": [
    "s = 'café'\n",
    "len(s)  # s 는 4개의 유니코드 문자로 구성되어 있다.\n"
   ],
   "metadata": {
    "collapsed": false,
    "ExecuteTime": {
     "end_time": "2023-11-17T15:31:22.648282400Z",
     "start_time": "2023-11-17T15:31:22.629810800Z"
    }
   }
  },
  {
   "cell_type": "code",
   "execution_count": 7,
   "outputs": [
    {
     "data": {
      "text/plain": "b'caf\\xc3\\xa9'"
     },
     "execution_count": 7,
     "metadata": {},
     "output_type": "execute_result"
    }
   ],
   "source": [
    "b: bytes = s.encode('utf8')\n",
    "b\n"
   ],
   "metadata": {
    "collapsed": false,
    "ExecuteTime": {
     "end_time": "2023-11-17T15:31:30.854921Z",
     "start_time": "2023-11-17T15:31:30.849798200Z"
    }
   }
  },
  {
   "cell_type": "code",
   "execution_count": 8,
   "outputs": [
    {
     "data": {
      "text/plain": "5"
     },
     "execution_count": 8,
     "metadata": {},
     "output_type": "execute_result"
    }
   ],
   "source": [
    "len(b)  # b 는 5 bytes 로 구성되어 있다.\n"
   ],
   "metadata": {
    "collapsed": false,
    "ExecuteTime": {
     "end_time": "2023-11-17T15:31:34.325116500Z",
     "start_time": "2023-11-17T15:31:34.308701500Z"
    }
   }
  },
  {
   "cell_type": "code",
   "execution_count": 9,
   "outputs": [
    {
     "data": {
      "text/plain": "'café'"
     },
     "execution_count": 9,
     "metadata": {},
     "output_type": "execute_result"
    }
   ],
   "source": [
    "b.decode('utf8')\n"
   ],
   "metadata": {
    "collapsed": false,
    "ExecuteTime": {
     "end_time": "2023-11-17T15:32:40.468801900Z",
     "start_time": "2023-11-17T15:32:40.454277200Z"
    }
   }
  }
 ],
 "metadata": {
  "kernelspec": {
   "display_name": "Python 3",
   "language": "python",
   "name": "python3"
  },
  "language_info": {
   "codemirror_mode": {
    "name": "ipython",
    "version": 2
   },
   "file_extension": ".py",
   "mimetype": "text/x-python",
   "name": "python",
   "nbconvert_exporter": "python",
   "pygments_lexer": "ipython2",
   "version": "2.7.6"
  }
 },
 "nbformat": 4,
 "nbformat_minor": 0
}
