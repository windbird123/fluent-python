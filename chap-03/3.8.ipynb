{
 "cells": [
  {
   "cell_type": "markdown",
   "source": [
    "# 3.8 집합 이론\n",
    "* 집합 요소는 반드시 해시할 수 있어야 한다.\n",
    "* `set` 은 해시 가능하지 않지만 `frozenset` 은 해시 가능하므로, `frozenset` 이 `set` 에 들어갈 수 있다.\n",
    "* `a | b` 는 합집합, `a & b` 는 교집합, `a - b` 는 차집합을 계산한다.\n"
   ],
   "metadata": {
    "collapsed": false
   }
  },
  {
   "cell_type": "markdown",
   "source": [
    "# 3.8.1 집합 리터럴\n",
    "* {1}, {1, 2} 처럼 집합을 표현하지만, 공집합을 {} 로 표현해서는 안되고 반드시 `set()` 으로 표기해야 한다.\n",
    "* {} 는 empty dict 로 인식된다.\n"
   ],
   "metadata": {
    "collapsed": false
   }
  },
  {
   "cell_type": "code",
   "execution_count": 4,
   "outputs": [
    {
     "data": {
      "text/plain": "set"
     },
     "execution_count": 4,
     "metadata": {},
     "output_type": "execute_result"
    }
   ],
   "source": [
    "empty_set = set()\n",
    "type(empty_set)\n"
   ],
   "metadata": {
    "collapsed": false,
    "ExecuteTime": {
     "end_time": "2023-11-17T14:54:40.794108600Z",
     "start_time": "2023-11-17T14:54:40.776523500Z"
    }
   }
  },
  {
   "cell_type": "code",
   "execution_count": 5,
   "outputs": [
    {
     "data": {
      "text/plain": "set"
     },
     "execution_count": 5,
     "metadata": {},
     "output_type": "execute_result"
    }
   ],
   "source": [
    "s = {1}\n",
    "type(s)\n"
   ],
   "metadata": {
    "collapsed": false,
    "ExecuteTime": {
     "end_time": "2023-11-17T14:55:10.958711300Z",
     "start_time": "2023-11-17T14:55:10.941969700Z"
    }
   }
  },
  {
   "cell_type": "code",
   "execution_count": 6,
   "outputs": [
    {
     "data": {
      "text/plain": "1"
     },
     "execution_count": 6,
     "metadata": {},
     "output_type": "execute_result"
    }
   ],
   "source": [
    "s.pop()\n"
   ],
   "metadata": {
    "collapsed": false,
    "ExecuteTime": {
     "end_time": "2023-11-17T14:55:17.600418600Z",
     "start_time": "2023-11-17T14:55:17.535370300Z"
    }
   }
  },
  {
   "cell_type": "code",
   "execution_count": 7,
   "outputs": [
    {
     "data": {
      "text/plain": "set()"
     },
     "execution_count": 7,
     "metadata": {},
     "output_type": "execute_result"
    }
   ],
   "source": [
    "s\n"
   ],
   "metadata": {
    "collapsed": false,
    "ExecuteTime": {
     "end_time": "2023-11-17T14:55:22.475910300Z",
     "start_time": "2023-11-17T14:55:22.443596200Z"
    }
   }
  },
  {
   "cell_type": "code",
   "execution_count": 8,
   "outputs": [
    {
     "data": {
      "text/plain": "frozenset({1, 2, 3, 4})"
     },
     "execution_count": 8,
     "metadata": {},
     "output_type": "execute_result"
    }
   ],
   "source": [
    "frozenset({1,2,3,4})\n"
   ],
   "metadata": {
    "collapsed": false,
    "ExecuteTime": {
     "end_time": "2023-11-17T14:55:52.071372100Z",
     "start_time": "2023-11-17T14:55:52.055707Z"
    }
   }
  },
  {
   "cell_type": "markdown",
   "source": [
    "# 3.8.2 지능형 집합\n"
   ],
   "metadata": {
    "collapsed": false
   }
  },
  {
   "cell_type": "code",
   "execution_count": 12,
   "outputs": [
    {
     "data": {
      "text/plain": "65"
     },
     "execution_count": 12,
     "metadata": {},
     "output_type": "execute_result"
    }
   ],
   "source": [
    "ord('A')"
   ],
   "metadata": {
    "collapsed": false,
    "ExecuteTime": {
     "end_time": "2023-11-17T14:59:51.307620600Z",
     "start_time": "2023-11-17T14:59:51.291747800Z"
    }
   }
  },
  {
   "cell_type": "code",
   "execution_count": 10,
   "outputs": [
    {
     "data": {
      "text/plain": "{'A', 'B', 'C', 'D', 'E'}"
     },
     "execution_count": 10,
     "metadata": {},
     "output_type": "execute_result"
    }
   ],
   "source": [
    "{chr(i) for i in range(65, 70)}\n"
   ],
   "metadata": {
    "collapsed": false,
    "ExecuteTime": {
     "end_time": "2023-11-17T14:59:21.678573400Z",
     "start_time": "2023-11-17T14:59:21.659131700Z"
    }
   }
  },
  {
   "cell_type": "markdown",
   "source": [
    "# 3.8.3 집합 연산\n",
    "* `a | b` 는 합집합, `a & b` 는 교집합, `a - b` 는 차집합을 계산한다\n"
   ],
   "metadata": {
    "collapsed": false
   }
  }
 ],
 "metadata": {
  "kernelspec": {
   "display_name": "Python 3",
   "language": "python",
   "name": "python3"
  },
  "language_info": {
   "codemirror_mode": {
    "name": "ipython",
    "version": 2
   },
   "file_extension": ".py",
   "mimetype": "text/x-python",
   "name": "python",
   "nbconvert_exporter": "python",
   "pygments_lexer": "ipython2",
   "version": "2.7.6"
  }
 },
 "nbformat": 4,
 "nbformat_minor": 0
}
