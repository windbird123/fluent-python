{
 "cells": [
  {
   "cell_type": "markdown",
   "source": [
    "# 3.4 융통성 있게 키를 조회하는 매핑\n",
    "default 값이 자동으로 적용되는 dictionary 를 만드는 두가지 방법\n",
    "1. `defaultdict` 를 사용\n",
    "2. `__missing__()` 메서드를 추가\n"
   ],
   "metadata": {
    "collapsed": false
   }
  },
  {
   "cell_type": "markdown",
   "source": [
    "# 3.4.1 defaultdict: 존재하지 않는 키에 대한 또 다른 처리\n",
    "#### 원리\n",
    "1. `defaultdict` 객체를 생성시 callable 한 `default_factory` 를 제공한다.\n",
    "2. key 를 조회하면 `__getitem__()` 메서드가 호출 되는데, 해당 key 가 존재하지 않으면 `default_factory` 에 의해 만들어지는 값을 사용한다.\n",
    "\n",
    "#### 주의\n",
    "* `__getitem__()` 메서드를 사용할 때만 `default_factory` 가 작동한다.\n",
    "* 예를 들어, `default_my_dict[k]` 는 `k` 가 존재하지 않으면 `default_factory` 를 호출해 값을 생성하지만, `default_my_dict.get(k)` 는 존재하지 않으면 `None` 을 리턴한다.\n"
   ],
   "metadata": {
    "collapsed": false
   }
  },
  {
   "cell_type": "code",
   "execution_count": 1,
   "outputs": [
    {
     "data": {
      "text/plain": "defaultdict(int, {'a3': 3, 'a2': 2, 'a1': 1})"
     },
     "execution_count": 1,
     "metadata": {},
     "output_type": "execute_result"
    }
   ],
   "source": [
    "words: list[str] = ['a3', 'a2', 'a2', 'a3', 'a1', 'a3']\n"
   ],
   "metadata": {
    "collapsed": false,
    "ExecuteTime": {
     "end_time": "2023-11-17T13:46:27.353836800Z",
     "start_time": "2023-11-17T13:46:27.333316900Z"
    }
   }
  },
  {
   "cell_type": "code",
   "execution_count": null,
   "outputs": [],
   "source": [
    "import collections\n",
    "\n",
    "counts = collections.defaultdict(int)\n",
    "\n",
    "for word in words:\n",
    "    counts[word] += 1\n",
    "\n",
    "counts\n"
   ],
   "metadata": {
    "collapsed": false
   }
  },
  {
   "cell_type": "markdown",
   "source": [
    "#### 위의 코드에서\n",
    "`collections.defaultdict(int)` 를 더 분석해 보자.\n"
   ],
   "metadata": {
    "collapsed": false
   }
  },
  {
   "cell_type": "code",
   "execution_count": 2,
   "outputs": [
    {
     "data": {
      "text/plain": "0"
     },
     "execution_count": 2,
     "metadata": {},
     "output_type": "execute_result"
    }
   ],
   "source": [
    "# parameter 로 넘겨준 int 가 이상해 보이는데, 이건 callable 객체이다.\n",
    "int()\n"
   ],
   "metadata": {
    "collapsed": false,
    "ExecuteTime": {
     "end_time": "2023-11-17T13:48:40.234995500Z",
     "start_time": "2023-11-17T13:48:40.224403900Z"
    }
   }
  },
  {
   "cell_type": "code",
   "execution_count": 3,
   "outputs": [
    {
     "data": {
      "text/plain": "[]"
     },
     "execution_count": 3,
     "metadata": {},
     "output_type": "execute_result"
    }
   ],
   "source": [
    "# parameter 로 list 를 넘겨 준다면, 이것 또한 callable 객체이다.\n",
    "list()\n"
   ],
   "metadata": {
    "collapsed": false,
    "ExecuteTime": {
     "end_time": "2023-11-17T13:49:34.149272300Z",
     "start_time": "2023-11-17T13:49:34.141023300Z"
    }
   }
  },
  {
   "cell_type": "code",
   "execution_count": 4,
   "outputs": [
    {
     "data": {
      "text/plain": "-1"
     },
     "execution_count": 4,
     "metadata": {},
     "output_type": "execute_result"
    }
   ],
   "source": [
    "# 만약 default value 를 -1 로 설정하고 싶다면, -1 을 리턴하는 callable 객체를 파라미터로 지정하면 된다.\n",
    "counts = collections.defaultdict(lambda: -1)\n",
    "counts['abc']\n"
   ],
   "metadata": {
    "collapsed": false,
    "ExecuteTime": {
     "end_time": "2023-11-17T13:51:40.384490800Z",
     "start_time": "2023-11-17T13:51:40.368833900Z"
    }
   }
  },
  {
   "cell_type": "code",
   "execution_count": 6,
   "outputs": [
    {
     "data": {
      "text/plain": "-1"
     },
     "execution_count": 6,
     "metadata": {},
     "output_type": "execute_result"
    }
   ],
   "source": [
    "# callable class 를 만들어 파라미터로 지정할 수 도 있다.\n",
    "class InitialValue:\n",
    "    def __init__(self, default):\n",
    "        self.default = default\n",
    "\n",
    "    def __call__(self, *args, **kwargs):\n",
    "        return self.default\n",
    "\n",
    "default = InitialValue(default=-1)\n",
    "default()  # -1\n",
    "\n",
    "counts = collections.defaultdict(default)\n",
    "counts['abc']\n"
   ],
   "metadata": {
    "collapsed": false,
    "ExecuteTime": {
     "end_time": "2023-11-17T13:54:42.385638200Z",
     "start_time": "2023-11-17T13:54:42.380336Z"
    }
   }
  },
  {
   "cell_type": "markdown",
   "source": [
    "# 3.4.2 __missing__() 메서드\n",
    "* `dict.__getitem__()` 메서드가 키를 발견할 수 없을 때 `KeyError` 를 발생시키지 않고 `__missing__()` 메서드를 호출한다.\n",
    "* 사용자 정의 매핑형을 만들때는 `dict` 보다는 `collections.UserDict` 클래스를 상속하는 것이 더 낫다.\n"
   ],
   "metadata": {
    "collapsed": false
   }
  }
 ],
 "metadata": {
  "kernelspec": {
   "display_name": "Python 3",
   "language": "python",
   "name": "python3"
  },
  "language_info": {
   "codemirror_mode": {
    "name": "ipython",
    "version": 2
   },
   "file_extension": ".py",
   "mimetype": "text/x-python",
   "name": "python",
   "nbconvert_exporter": "python",
   "pygments_lexer": "ipython2",
   "version": "2.7.6"
  }
 },
 "nbformat": 4,
 "nbformat_minor": 0
}
