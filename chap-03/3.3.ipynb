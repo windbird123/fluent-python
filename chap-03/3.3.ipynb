{
 "cells": [
  {
   "cell_type": "markdown",
   "source": [
    "# 3.3 공통적인 매핑 메서드\n",
    "* `d.update(m, [**kargs])`: (키,값) 쌍의 매핑이나 반복형 객체에서 가져온 항목들로 d 를 갱신\n"
   ],
   "metadata": {
    "collapsed": false
   }
  },
  {
   "cell_type": "markdown",
   "source": [
    "# 3.3.1 존재하지 않는 키를 setdefault() 로 처리하기\n"
   ],
   "metadata": {
    "collapsed": false
   }
  },
  {
   "cell_type": "code",
   "execution_count": 3,
   "outputs": [],
   "source": [
    "# 단어 출현 빈도 계산 프로그램을 만들어 보자\n",
    "\n",
    "words: list[str] = ['a3', 'a2', 'a2', 'a3', 'a1', 'a3']"
   ],
   "metadata": {
    "collapsed": false,
    "ExecuteTime": {
     "end_time": "2023-11-17T13:03:25.733437800Z",
     "start_time": "2023-11-17T13:03:25.727757900Z"
    }
   }
  },
  {
   "cell_type": "code",
   "execution_count": 4,
   "outputs": [
    {
     "data": {
      "text/plain": "{'a3': 3, 'a2': 2, 'a1': 1}"
     },
     "execution_count": 4,
     "metadata": {},
     "output_type": "execute_result"
    }
   ],
   "source": [
    "# 방법1. setdefault 사용하지 않고 만들어 보기\n",
    "counts: dict[str, int] = {}\n",
    "for word in words:\n",
    "    occurrences = counts.get(word, 0)\n",
    "    counts[word] = occurrences + 1\n",
    "\n",
    "counts\n"
   ],
   "metadata": {
    "collapsed": false,
    "ExecuteTime": {
     "end_time": "2023-11-17T13:03:27.604225500Z",
     "start_time": "2023-11-17T13:03:27.587037300Z"
    }
   }
  },
  {
   "cell_type": "code",
   "execution_count": 5,
   "outputs": [
    {
     "data": {
      "text/plain": "{'a3': 3, 'a2': 2, 'a1': 1}"
     },
     "execution_count": 5,
     "metadata": {},
     "output_type": "execute_result"
    }
   ],
   "source": [
    "# 방법2. setdefault 사용해 만들어 보기\n",
    "counts: dict[str, int] = {}\n",
    "for word in words:\n",
    "    counts[word] = counts.setdefault(word, 0) + 1\n",
    "\n",
    "counts\n"
   ],
   "metadata": {
    "collapsed": false,
    "ExecuteTime": {
     "end_time": "2023-11-17T13:07:44.674843300Z",
     "start_time": "2023-11-17T13:07:44.655248800Z"
    }
   }
  }
 ],
 "metadata": {
  "kernelspec": {
   "display_name": "Python 3",
   "language": "python",
   "name": "python3"
  },
  "language_info": {
   "codemirror_mode": {
    "name": "ipython",
    "version": 2
   },
   "file_extension": ".py",
   "mimetype": "text/x-python",
   "name": "python",
   "nbconvert_exporter": "python",
   "pygments_lexer": "ipython2",
   "version": "2.7.6"
  }
 },
 "nbformat": 4,
 "nbformat_minor": 0
}
