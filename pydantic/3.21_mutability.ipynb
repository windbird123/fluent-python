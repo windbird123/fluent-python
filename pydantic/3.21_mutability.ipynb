{
 "cells": [
  {
   "cell_type": "code",
   "execution_count": 11,
   "metadata": {
    "collapsed": true,
    "ExecuteTime": {
     "end_time": "2024-01-20T08:03:21.460520Z",
     "start_time": "2024-01-20T08:03:21.429882700Z"
    }
   },
   "outputs": [],
   "source": [
    "from pydantic import BaseModel, ConfigDict, ValidationError\n"
   ]
  },
  {
   "cell_type": "code",
   "execution_count": 12,
   "outputs": [],
   "source": [
    "class Model(BaseModel):\n",
    "    field: int\n"
   ],
   "metadata": {
    "collapsed": false,
    "ExecuteTime": {
     "end_time": "2024-01-20T08:03:21.504635Z",
     "start_time": "2024-01-20T08:03:21.445375400Z"
    }
   }
  },
  {
   "cell_type": "code",
   "execution_count": 13,
   "outputs": [
    {
     "data": {
      "text/plain": "Model(field=10)"
     },
     "execution_count": 13,
     "metadata": {},
     "output_type": "execute_result"
    }
   ],
   "source": [
    "m = Model(field=10)\n",
    "m\n"
   ],
   "metadata": {
    "collapsed": false,
    "ExecuteTime": {
     "end_time": "2024-01-20T08:03:21.516327300Z",
     "start_time": "2024-01-20T08:03:21.459519100Z"
    }
   }
  },
  {
   "cell_type": "code",
   "execution_count": 14,
   "outputs": [
    {
     "data": {
      "text/plain": "Model(field=20)"
     },
     "execution_count": 14,
     "metadata": {},
     "output_type": "execute_result"
    }
   ],
   "source": [
    "m.field = 20  # mutable\n",
    "m\n"
   ],
   "metadata": {
    "collapsed": false,
    "ExecuteTime": {
     "end_time": "2024-01-20T08:03:21.516327300Z",
     "start_time": "2024-01-20T08:03:21.489646300Z"
    }
   }
  },
  {
   "cell_type": "markdown",
   "source": [
    "#### Immutable 로 만들려면\n"
   ],
   "metadata": {
    "collapsed": false
   }
  },
  {
   "cell_type": "code",
   "execution_count": 15,
   "outputs": [],
   "source": [
    "class Model2(BaseModel):\n",
    "    model_config = ConfigDict(frozen=True)\n",
    "\n",
    "    field: int\n"
   ],
   "metadata": {
    "collapsed": false,
    "ExecuteTime": {
     "end_time": "2024-01-20T08:03:21.522915Z",
     "start_time": "2024-01-20T08:03:21.506634300Z"
    }
   }
  },
  {
   "cell_type": "code",
   "execution_count": 16,
   "outputs": [
    {
     "data": {
      "text/plain": "Model2(field=10)"
     },
     "execution_count": 16,
     "metadata": {},
     "output_type": "execute_result"
    }
   ],
   "source": [
    "m2 = Model2(field=10)\n",
    "m2\n"
   ],
   "metadata": {
    "collapsed": false,
    "ExecuteTime": {
     "end_time": "2024-01-20T08:03:21.588154Z",
     "start_time": "2024-01-20T08:03:21.520914800Z"
    }
   }
  },
  {
   "cell_type": "code",
   "execution_count": 17,
   "outputs": [
    {
     "ename": "ValidationError",
     "evalue": "1 validation error for Model2\nfield\n  Instance is frozen [type=frozen_instance, input_value=20, input_type=int]\n    For further information visit https://errors.pydantic.dev/2.4/v/frozen_instance",
     "output_type": "error",
     "traceback": [
      "\u001B[1;31m---------------------------------------------------------------------------\u001B[0m",
      "\u001B[1;31mValidationError\u001B[0m                           Traceback (most recent call last)",
      "Cell \u001B[1;32mIn[17], line 1\u001B[0m\n\u001B[1;32m----> 1\u001B[0m \u001B[43mm2\u001B[49m\u001B[38;5;241;43m.\u001B[39;49m\u001B[43mfield\u001B[49m \u001B[38;5;241m=\u001B[39m \u001B[38;5;241m20\u001B[39m\n",
      "File \u001B[1;32mC:\\work\\python_app\\venv\\lib\\site-packages\\pydantic\\main.py:783\u001B[0m, in \u001B[0;36mBaseModel.__setattr__\u001B[1;34m(self, name, value)\u001B[0m\n\u001B[0;32m    777\u001B[0m \u001B[38;5;28;01melif\u001B[39;00m \u001B[38;5;28mself\u001B[39m\u001B[38;5;241m.\u001B[39mmodel_config\u001B[38;5;241m.\u001B[39mget(\u001B[38;5;124m'\u001B[39m\u001B[38;5;124mfrozen\u001B[39m\u001B[38;5;124m'\u001B[39m, \u001B[38;5;28;01mNone\u001B[39;00m):\n\u001B[0;32m    778\u001B[0m     error: pydantic_core\u001B[38;5;241m.\u001B[39mInitErrorDetails \u001B[38;5;241m=\u001B[39m {\n\u001B[0;32m    779\u001B[0m         \u001B[38;5;124m'\u001B[39m\u001B[38;5;124mtype\u001B[39m\u001B[38;5;124m'\u001B[39m: \u001B[38;5;124m'\u001B[39m\u001B[38;5;124mfrozen_instance\u001B[39m\u001B[38;5;124m'\u001B[39m,\n\u001B[0;32m    780\u001B[0m         \u001B[38;5;124m'\u001B[39m\u001B[38;5;124mloc\u001B[39m\u001B[38;5;124m'\u001B[39m: (name,),\n\u001B[0;32m    781\u001B[0m         \u001B[38;5;124m'\u001B[39m\u001B[38;5;124minput\u001B[39m\u001B[38;5;124m'\u001B[39m: value,\n\u001B[0;32m    782\u001B[0m     }\n\u001B[1;32m--> 783\u001B[0m     \u001B[38;5;28;01mraise\u001B[39;00m pydantic_core\u001B[38;5;241m.\u001B[39mValidationError\u001B[38;5;241m.\u001B[39mfrom_exception_data(\u001B[38;5;28mself\u001B[39m\u001B[38;5;241m.\u001B[39m\u001B[38;5;18m__class__\u001B[39m\u001B[38;5;241m.\u001B[39m\u001B[38;5;18m__name__\u001B[39m, [error])\n\u001B[0;32m    784\u001B[0m \u001B[38;5;28;01melif\u001B[39;00m \u001B[38;5;28mgetattr\u001B[39m(\u001B[38;5;28mself\u001B[39m\u001B[38;5;241m.\u001B[39mmodel_fields\u001B[38;5;241m.\u001B[39mget(name), \u001B[38;5;124m'\u001B[39m\u001B[38;5;124mfrozen\u001B[39m\u001B[38;5;124m'\u001B[39m, \u001B[38;5;28;01mFalse\u001B[39;00m):\n\u001B[0;32m    785\u001B[0m     error: pydantic_core\u001B[38;5;241m.\u001B[39mInitErrorDetails \u001B[38;5;241m=\u001B[39m {\n\u001B[0;32m    786\u001B[0m         \u001B[38;5;124m'\u001B[39m\u001B[38;5;124mtype\u001B[39m\u001B[38;5;124m'\u001B[39m: \u001B[38;5;124m'\u001B[39m\u001B[38;5;124mfrozen_field\u001B[39m\u001B[38;5;124m'\u001B[39m,\n\u001B[0;32m    787\u001B[0m         \u001B[38;5;124m'\u001B[39m\u001B[38;5;124mloc\u001B[39m\u001B[38;5;124m'\u001B[39m: (name,),\n\u001B[0;32m    788\u001B[0m         \u001B[38;5;124m'\u001B[39m\u001B[38;5;124minput\u001B[39m\u001B[38;5;124m'\u001B[39m: value,\n\u001B[0;32m    789\u001B[0m     }\n",
      "\u001B[1;31mValidationError\u001B[0m: 1 validation error for Model2\nfield\n  Instance is frozen [type=frozen_instance, input_value=20, input_type=int]\n    For further information visit https://errors.pydantic.dev/2.4/v/frozen_instance"
     ]
    }
   ],
   "source": [
    "m2.field = 20\n"
   ],
   "metadata": {
    "collapsed": false,
    "ExecuteTime": {
     "end_time": "2024-01-20T08:03:21.589156100Z",
     "start_time": "2024-01-20T08:03:21.552197700Z"
    }
   }
  },
  {
   "cell_type": "markdown",
   "source": [
    "#### Dictionary 의 key 는 immutable 해야 한다. 따라서 immutable pydantic model 객체는 dictionary 의 key 로 사용 가능"
   ],
   "metadata": {
    "collapsed": false
   }
  },
  {
   "cell_type": "code",
   "execution_count": 18,
   "outputs": [
    {
     "ename": "TypeError",
     "evalue": "unhashable type: 'Model'",
     "output_type": "error",
     "traceback": [
      "\u001B[1;31m---------------------------------------------------------------------------\u001B[0m",
      "\u001B[1;31mTypeError\u001B[0m                                 Traceback (most recent call last)",
      "Cell \u001B[1;32mIn[18], line 1\u001B[0m\n\u001B[1;32m----> 1\u001B[0m d \u001B[38;5;241m=\u001B[39m {m: \u001B[38;5;124m\"\u001B[39m\u001B[38;5;124m1\u001B[39m\u001B[38;5;124m\"\u001B[39m}\n",
      "\u001B[1;31mTypeError\u001B[0m: unhashable type: 'Model'"
     ]
    }
   ],
   "source": [
    "d = {m: \"1\"}  # m 은 mutable 이므로 Error\n"
   ],
   "metadata": {
    "collapsed": false,
    "ExecuteTime": {
     "end_time": "2024-01-20T08:03:28.022745200Z",
     "start_time": "2024-01-20T08:03:27.970506Z"
    }
   }
  },
  {
   "cell_type": "code",
   "execution_count": 19,
   "outputs": [],
   "source": [
    "d2 = {m2: 2}  # m2 는 immutable 이므로 OK\n"
   ],
   "metadata": {
    "collapsed": false,
    "ExecuteTime": {
     "end_time": "2024-01-20T08:03:49.533498Z",
     "start_time": "2024-01-20T08:03:49.522874900Z"
    }
   }
  }
 ],
 "metadata": {
  "kernelspec": {
   "display_name": "Python 3",
   "language": "python",
   "name": "python3"
  },
  "language_info": {
   "codemirror_mode": {
    "name": "ipython",
    "version": 2
   },
   "file_extension": ".py",
   "mimetype": "text/x-python",
   "name": "python",
   "nbconvert_exporter": "python",
   "pygments_lexer": "ipython2",
   "version": "2.7.6"
  }
 },
 "nbformat": 4,
 "nbformat_minor": 0
}
