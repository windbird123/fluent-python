{
 "cells": [
  {
   "cell_type": "code",
   "execution_count": null,
   "outputs": [],
   "source": [
    "# Type Coercion (강제)"
   ],
   "metadata": {
    "collapsed": false
   }
  },
  {
   "cell_type": "code",
   "execution_count": 3,
   "outputs": [],
   "source": [
    "from pydantic import BaseModel\n"
   ],
   "metadata": {
    "collapsed": false,
    "ExecuteTime": {
     "end_time": "2024-01-08T07:12:59.821077700Z",
     "start_time": "2024-01-08T07:12:59.816051300Z"
    }
   }
  },
  {
   "cell_type": "code",
   "execution_count": 4,
   "outputs": [],
   "source": [
    "class Coordinates(BaseModel):\n",
    "    x: float\n",
    "    y: float"
   ],
   "metadata": {
    "collapsed": false,
    "ExecuteTime": {
     "end_time": "2024-01-08T07:12:59.881722400Z",
     "start_time": "2024-01-08T07:12:59.819061800Z"
    }
   }
  },
  {
   "cell_type": "code",
   "execution_count": 5,
   "outputs": [],
   "source": [
    "p1 = Coordinates(x=1.1, y=2.2)\n"
   ],
   "metadata": {
    "collapsed": false,
    "ExecuteTime": {
     "end_time": "2024-01-08T07:12:59.895545300Z",
     "start_time": "2024-01-08T07:12:59.882763400Z"
    }
   }
  },
  {
   "cell_type": "code",
   "execution_count": 6,
   "outputs": [
    {
     "data": {
      "text/plain": "{'x': FieldInfo(annotation=float, required=True),\n 'y': FieldInfo(annotation=float, required=True)}"
     },
     "execution_count": 6,
     "metadata": {},
     "output_type": "execute_result"
    }
   ],
   "source": [
    "Coordinates.model_fields\n"
   ],
   "metadata": {
    "collapsed": false,
    "ExecuteTime": {
     "end_time": "2024-01-08T07:13:17.979263300Z",
     "start_time": "2024-01-08T07:13:17.955579400Z"
    }
   }
  },
  {
   "cell_type": "markdown",
   "source": [
    "#### pydantic model 에 정의한 타입대로 입력이 들어오지 않는다면?\n"
   ],
   "metadata": {
    "collapsed": false
   }
  },
  {
   "cell_type": "markdown",
   "source": [
    "# x,y 값으로 float 가 아니라 int 를 주면?\n",
    "# 기본적으로 pydantic 에서 변환해 끼워 맞추려고 시도한다.\n",
    "# config 설정(strict mode) 을 통해 위의 과정 없이 다른 타입이 들어오면 무조건 에러가 나게 할 수도 있다."
   ],
   "metadata": {
    "collapsed": false
   }
  },
  {
   "cell_type": "code",
   "execution_count": 11,
   "outputs": [
    {
     "data": {
      "text/plain": "Coordinates(x=1.0, y=2.2)"
     },
     "execution_count": 11,
     "metadata": {},
     "output_type": "execute_result"
    }
   ],
   "source": [
    "p2 = Coordinates(x=1, y=\"2.2\")\n",
    "p2"
   ],
   "metadata": {
    "collapsed": false,
    "ExecuteTime": {
     "end_time": "2024-01-08T07:20:12.846389400Z",
     "start_time": "2024-01-08T07:20:12.797307800Z"
    }
   }
  },
  {
   "cell_type": "code",
   "execution_count": 10,
   "outputs": [
    {
     "data": {
      "text/plain": "(float, float)"
     },
     "execution_count": 10,
     "metadata": {},
     "output_type": "execute_result"
    }
   ],
   "source": [
    "type(p2.x), type(p2.y)\n"
   ],
   "metadata": {
    "collapsed": false,
    "ExecuteTime": {
     "end_time": "2024-01-08T07:16:50.638226700Z",
     "start_time": "2024-01-08T07:16:50.627495100Z"
    }
   }
  },
  {
   "cell_type": "code",
   "execution_count": 13,
   "outputs": [],
   "source": [
    "class MyModel(BaseModel):\n",
    "    field: str"
   ],
   "metadata": {
    "collapsed": false,
    "ExecuteTime": {
     "end_time": "2024-01-08T07:23:56.563443Z",
     "start_time": "2024-01-08T07:23:56.547597900Z"
    }
   }
  },
  {
   "cell_type": "code",
   "execution_count": 15,
   "outputs": [
    {
     "ename": "ValidationError",
     "evalue": "1 validation error for MyModel\nfield\n  Input should be a valid string [type=string_type, input_value=100, input_type=int]\n    For further information visit https://errors.pydantic.dev/2.4/v/string_type",
     "output_type": "error",
     "traceback": [
      "\u001B[1;31m---------------------------------------------------------------------------\u001B[0m",
      "\u001B[1;31mValidationError\u001B[0m                           Traceback (most recent call last)",
      "Cell \u001B[1;32mIn[15], line 3\u001B[0m\n\u001B[0;32m      1\u001B[0m \u001B[38;5;66;03m# 아래는 success 일 것 같지만, ValidationError 가 발생한다.\u001B[39;00m\n\u001B[0;32m      2\u001B[0m \u001B[38;5;66;03m# 기본적으로 object 에는 __repr__, __str__ 이 있어, 이렇게 허용하는 것은 위험하기 때문?\u001B[39;00m\n\u001B[1;32m----> 3\u001B[0m \u001B[43mMyModel\u001B[49m\u001B[43m(\u001B[49m\u001B[43mfield\u001B[49m\u001B[38;5;241;43m=\u001B[39;49m\u001B[38;5;241;43m100\u001B[39;49m\u001B[43m)\u001B[49m\n",
      "File \u001B[1;32mC:\\work\\python_app\\venv\\lib\\site-packages\\pydantic\\main.py:164\u001B[0m, in \u001B[0;36mBaseModel.__init__\u001B[1;34m(__pydantic_self__, **data)\u001B[0m\n\u001B[0;32m    162\u001B[0m \u001B[38;5;66;03m# `__tracebackhide__` tells pytest and some other tools to omit this function from tracebacks\u001B[39;00m\n\u001B[0;32m    163\u001B[0m __tracebackhide__ \u001B[38;5;241m=\u001B[39m \u001B[38;5;28;01mTrue\u001B[39;00m\n\u001B[1;32m--> 164\u001B[0m \u001B[43m__pydantic_self__\u001B[49m\u001B[38;5;241;43m.\u001B[39;49m\u001B[43m__pydantic_validator__\u001B[49m\u001B[38;5;241;43m.\u001B[39;49m\u001B[43mvalidate_python\u001B[49m\u001B[43m(\u001B[49m\u001B[43mdata\u001B[49m\u001B[43m,\u001B[49m\u001B[43m \u001B[49m\u001B[43mself_instance\u001B[49m\u001B[38;5;241;43m=\u001B[39;49m\u001B[43m__pydantic_self__\u001B[49m\u001B[43m)\u001B[49m\n",
      "\u001B[1;31mValidationError\u001B[0m: 1 validation error for MyModel\nfield\n  Input should be a valid string [type=string_type, input_value=100, input_type=int]\n    For further information visit https://errors.pydantic.dev/2.4/v/string_type"
     ]
    }
   ],
   "source": [
    "# 아래는 success 일 것 같지만, ValidationError 가 발생한다.\n",
    "# 기본적으로 object 에는 __repr__, __str__ 이 있어, 이렇게 허용하는 것은 위험하기 때문?\n",
    "MyModel(field=100)\n"
   ],
   "metadata": {
    "collapsed": false,
    "ExecuteTime": {
     "end_time": "2024-01-08T07:25:17.796970800Z",
     "start_time": "2024-01-08T07:25:17.775701800Z"
    }
   }
  },
  {
   "cell_type": "code",
   "execution_count": 2,
   "outputs": [],
   "source": [
    "from pydantic import BaseModel, ConfigDict\n",
    "\n",
    "class Coordinates2(BaseModel):\n",
    "    model_config = ConfigDict(strict=True)\n",
    "\n",
    "    x: float\n",
    "    y: float\n"
   ],
   "metadata": {
    "collapsed": false,
    "ExecuteTime": {
     "end_time": "2024-01-20T08:14:35.510491300Z",
     "start_time": "2024-01-20T08:14:35.429555300Z"
    }
   }
  },
  {
   "cell_type": "code",
   "execution_count": 5,
   "outputs": [
    {
     "data": {
      "text/plain": "Coordinates2(x=1.0, y=2.0)"
     },
     "execution_count": 5,
     "metadata": {},
     "output_type": "execute_result"
    }
   ],
   "source": [
    "Coordinates2(x=1, y=2)  # strict mode 에서도 int -> float 변환은 허용됨\n"
   ],
   "metadata": {
    "collapsed": false,
    "ExecuteTime": {
     "end_time": "2024-01-20T08:15:28.094165900Z",
     "start_time": "2024-01-20T08:15:28.077685400Z"
    }
   }
  }
 ],
 "metadata": {
  "kernelspec": {
   "display_name": "Python 3",
   "language": "python",
   "name": "python3"
  },
  "language_info": {
   "codemirror_mode": {
    "name": "ipython",
    "version": 2
   },
   "file_extension": ".py",
   "mimetype": "text/x-python",
   "name": "python",
   "nbconvert_exporter": "python",
   "pygments_lexer": "ipython2",
   "version": "2.7.6"
  }
 },
 "nbformat": 4,
 "nbformat_minor": 0
}
