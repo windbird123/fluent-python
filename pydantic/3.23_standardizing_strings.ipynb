{
 "cells": [
  {
   "cell_type": "code",
   "execution_count": 1,
   "metadata": {
    "collapsed": true,
    "ExecuteTime": {
     "end_time": "2024-01-20T08:17:27.555018900Z",
     "start_time": "2024-01-20T08:17:27.498287700Z"
    }
   },
   "outputs": [],
   "source": [
    "from pydantic import BaseModel, ConfigDict, ValidationError\n"
   ]
  },
  {
   "cell_type": "code",
   "execution_count": 2,
   "outputs": [],
   "source": [
    "s1 = \"  python\"\n",
    "s2 = \" python  \\t\\n\"\n"
   ],
   "metadata": {
    "collapsed": false,
    "ExecuteTime": {
     "end_time": "2024-01-20T08:17:52.530668600Z",
     "start_time": "2024-01-20T08:17:52.508112900Z"
    }
   }
  },
  {
   "cell_type": "code",
   "execution_count": 3,
   "outputs": [
    {
     "data": {
      "text/plain": "False"
     },
     "execution_count": 3,
     "metadata": {},
     "output_type": "execute_result"
    }
   ],
   "source": [
    "s1 == s2\n"
   ],
   "metadata": {
    "collapsed": false,
    "ExecuteTime": {
     "end_time": "2024-01-20T08:17:58.594067900Z",
     "start_time": "2024-01-20T08:17:58.542677800Z"
    }
   }
  },
  {
   "cell_type": "code",
   "execution_count": 4,
   "outputs": [
    {
     "data": {
      "text/plain": "True"
     },
     "execution_count": 4,
     "metadata": {},
     "output_type": "execute_result"
    }
   ],
   "source": [
    "s1.strip() == s2.strip()\n"
   ],
   "metadata": {
    "collapsed": false,
    "ExecuteTime": {
     "end_time": "2024-01-20T08:18:17.160299800Z",
     "start_time": "2024-01-20T08:18:17.154101400Z"
    }
   }
  },
  {
   "cell_type": "markdown",
   "source": [
    "#### string 의 공백 제거를 pydantic 의 config 로 제공할려면?\n"
   ],
   "metadata": {
    "collapsed": false
   }
  },
  {
   "cell_type": "code",
   "execution_count": 5,
   "outputs": [],
   "source": [
    "class Model(BaseModel):\n",
    "    model_config = ConfigDict(str_strip_whitespace=True)\n",
    "\n",
    "    field: str\n"
   ],
   "metadata": {
    "collapsed": false,
    "ExecuteTime": {
     "end_time": "2024-01-20T08:19:35.319021Z",
     "start_time": "2024-01-20T08:19:35.248344Z"
    }
   }
  },
  {
   "cell_type": "code",
   "execution_count": 6,
   "outputs": [
    {
     "data": {
      "text/plain": "Model(field='python')"
     },
     "execution_count": 6,
     "metadata": {},
     "output_type": "execute_result"
    }
   ],
   "source": [
    "m1 = Model(field=s1)\n",
    "m1\n"
   ],
   "metadata": {
    "collapsed": false,
    "ExecuteTime": {
     "end_time": "2024-01-20T08:20:03.926730400Z",
     "start_time": "2024-01-20T08:20:03.900502Z"
    }
   }
  },
  {
   "cell_type": "code",
   "execution_count": 7,
   "outputs": [
    {
     "data": {
      "text/plain": "Model(field='python')"
     },
     "execution_count": 7,
     "metadata": {},
     "output_type": "execute_result"
    }
   ],
   "source": [
    "m2 = Model(field=s2)\n",
    "m2\n"
   ],
   "metadata": {
    "collapsed": false,
    "ExecuteTime": {
     "end_time": "2024-01-20T08:20:19.734087Z",
     "start_time": "2024-01-20T08:20:19.717562300Z"
    }
   }
  },
  {
   "cell_type": "code",
   "execution_count": 8,
   "outputs": [
    {
     "data": {
      "text/plain": "True"
     },
     "execution_count": 8,
     "metadata": {},
     "output_type": "execute_result"
    }
   ],
   "source": [
    "m1 == m2\n"
   ],
   "metadata": {
    "collapsed": false,
    "ExecuteTime": {
     "end_time": "2024-01-20T08:20:25.673788Z",
     "start_time": "2024-01-20T08:20:25.661959900Z"
    }
   }
  },
  {
   "cell_type": "markdown",
   "source": [
    "#### auto upper-case / lower-case 를 config 로 제공할려면?\n"
   ],
   "metadata": {
    "collapsed": false
   }
  },
  {
   "cell_type": "code",
   "execution_count": 12,
   "outputs": [],
   "source": [
    "class Model(BaseModel):\n",
    "    model_config = ConfigDict(str_strip_whitespace=True, str_to_lower=True)\n",
    "\n",
    "    field: str\n"
   ],
   "metadata": {
    "collapsed": false,
    "ExecuteTime": {
     "end_time": "2024-01-20T08:23:19.981642300Z",
     "start_time": "2024-01-20T08:23:19.963610400Z"
    }
   }
  },
  {
   "cell_type": "code",
   "execution_count": 14,
   "outputs": [
    {
     "data": {
      "text/plain": "Model(field='python')"
     },
     "execution_count": 14,
     "metadata": {},
     "output_type": "execute_result"
    }
   ],
   "source": [
    "Model(field=\"   PYthoN \\n\\t  \")\n"
   ],
   "metadata": {
    "collapsed": false,
    "ExecuteTime": {
     "end_time": "2024-01-20T08:23:47.659278800Z",
     "start_time": "2024-01-20T08:23:47.641128600Z"
    }
   }
  }
 ],
 "metadata": {
  "kernelspec": {
   "display_name": "Python 3",
   "language": "python",
   "name": "python3"
  },
  "language_info": {
   "codemirror_mode": {
    "name": "ipython",
    "version": 2
   },
   "file_extension": ".py",
   "mimetype": "text/x-python",
   "name": "python",
   "nbconvert_exporter": "python",
   "pygments_lexer": "ipython2",
   "version": "2.7.6"
  }
 },
 "nbformat": 4,
 "nbformat_minor": 0
}
