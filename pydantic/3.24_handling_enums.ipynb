{
 "cells": [
  {
   "cell_type": "code",
   "execution_count": 3,
   "metadata": {
    "collapsed": true,
    "ExecuteTime": {
     "end_time": "2024-01-20T08:26:57.169052500Z",
     "start_time": "2024-01-20T08:26:57.163417700Z"
    }
   },
   "outputs": [],
   "source": [
    "from pydantic import BaseModel, ConfigDict, ValidationError\n",
    "from enum import Enum\n"
   ]
  },
  {
   "cell_type": "code",
   "execution_count": 4,
   "outputs": [],
   "source": [
    "class Color(Enum):\n",
    "    red = \"Red\"\n",
    "    green = \"Green\"\n",
    "    blue = \"Blue\"\n"
   ],
   "metadata": {
    "collapsed": false,
    "ExecuteTime": {
     "end_time": "2024-01-20T08:27:25.097612300Z",
     "start_time": "2024-01-20T08:27:25.079179600Z"
    }
   }
  },
  {
   "cell_type": "code",
   "execution_count": 5,
   "outputs": [
    {
     "data": {
      "text/plain": "<Color.red: 'Red'>"
     },
     "execution_count": 5,
     "metadata": {},
     "output_type": "execute_result"
    }
   ],
   "source": [
    "Color.red\n"
   ],
   "metadata": {
    "collapsed": false,
    "ExecuteTime": {
     "end_time": "2024-01-20T08:27:32.490294Z",
     "start_time": "2024-01-20T08:27:32.481180600Z"
    }
   }
  },
  {
   "cell_type": "code",
   "execution_count": 6,
   "outputs": [
    {
     "data": {
      "text/plain": "'Red'"
     },
     "execution_count": 6,
     "metadata": {},
     "output_type": "execute_result"
    }
   ],
   "source": [
    "Color.red.value\n"
   ],
   "metadata": {
    "collapsed": false,
    "ExecuteTime": {
     "end_time": "2024-01-20T08:27:42.023953100Z",
     "start_time": "2024-01-20T08:27:42.013002Z"
    }
   }
  },
  {
   "cell_type": "code",
   "execution_count": 7,
   "outputs": [],
   "source": [
    "class Model(BaseModel):\n",
    "    color: Color\n"
   ],
   "metadata": {
    "collapsed": false,
    "ExecuteTime": {
     "end_time": "2024-01-20T08:28:30.083951600Z",
     "start_time": "2024-01-20T08:28:30.035824Z"
    }
   }
  },
  {
   "cell_type": "code",
   "execution_count": 9,
   "outputs": [
    {
     "data": {
      "text/plain": "Model(color=<Color.red: 'Red'>)"
     },
     "execution_count": 9,
     "metadata": {},
     "output_type": "execute_result"
    }
   ],
   "source": [
    "# Serialize\n",
    "Model(color=Color.red)\n"
   ],
   "metadata": {
    "collapsed": false,
    "ExecuteTime": {
     "end_time": "2024-01-20T08:29:16.937441900Z",
     "start_time": "2024-01-20T08:29:16.897749300Z"
    }
   }
  },
  {
   "cell_type": "code",
   "execution_count": 10,
   "outputs": [
    {
     "data": {
      "text/plain": "Model(color=<Color.red: 'Red'>)"
     },
     "execution_count": 10,
     "metadata": {},
     "output_type": "execute_result"
    }
   ],
   "source": [
    "# Deserialize\n",
    "data = '''{ \"color\": \"Red\" }'''\n",
    "Model.model_validate_json(json_data=data)\n"
   ],
   "metadata": {
    "collapsed": false,
    "ExecuteTime": {
     "end_time": "2024-01-20T08:30:52.519477800Z",
     "start_time": "2024-01-20T08:30:52.506975600Z"
    }
   }
  },
  {
   "cell_type": "markdown",
   "source": [
    "#### Model dump 를 하면"
   ],
   "metadata": {
    "collapsed": false
   }
  },
  {
   "cell_type": "code",
   "execution_count": 11,
   "outputs": [],
   "source": [
    "m = Model(color=Color.red)\n"
   ],
   "metadata": {
    "collapsed": false,
    "ExecuteTime": {
     "end_time": "2024-01-20T08:32:35.506436500Z",
     "start_time": "2024-01-20T08:32:35.498703100Z"
    }
   }
  },
  {
   "cell_type": "code",
   "execution_count": 12,
   "outputs": [
    {
     "data": {
      "text/plain": "{'color': <Color.red: 'Red'>}"
     },
     "execution_count": 12,
     "metadata": {},
     "output_type": "execute_result"
    }
   ],
   "source": [
    "m.model_dump()  # value 의 Enum 이 보존됨 --> 그런데 {'color': 'Red'} 로 serialize 되길 바란다면?\n"
   ],
   "metadata": {
    "collapsed": false,
    "ExecuteTime": {
     "end_time": "2024-01-20T08:32:51.842808800Z",
     "start_time": "2024-01-20T08:32:51.815980500Z"
    }
   }
  },
  {
   "cell_type": "code",
   "execution_count": 14,
   "outputs": [
    {
     "data": {
      "text/plain": "'{\"color\":\"Red\"}'"
     },
     "execution_count": 14,
     "metadata": {},
     "output_type": "execute_result"
    }
   ],
   "source": [
    "m.model_dump_json()  # value 의 String 값으로 serialize\n"
   ],
   "metadata": {
    "collapsed": false,
    "ExecuteTime": {
     "end_time": "2024-01-20T08:34:01.855144800Z",
     "start_time": "2024-01-20T08:34:01.829609Z"
    }
   }
  },
  {
   "cell_type": "markdown",
   "source": [
    "#### model_dump() 때도 Enum 이 아닌 model_dump_json() 시의 String 으로 serialize 되길 원한다면"
   ],
   "metadata": {
    "collapsed": false
   }
  },
  {
   "cell_type": "code",
   "execution_count": 15,
   "outputs": [],
   "source": [
    "class Model2(BaseModel):\n",
    "    model_config = ConfigDict(use_enum_values=True)  # 이걸 설정하면\n",
    "\n",
    "    color: Color\n"
   ],
   "metadata": {
    "collapsed": false,
    "ExecuteTime": {
     "end_time": "2024-01-20T08:38:14.609545100Z",
     "start_time": "2024-01-20T08:38:14.598367900Z"
    }
   }
  },
  {
   "cell_type": "code",
   "execution_count": 17,
   "outputs": [
    {
     "data": {
      "text/plain": "{'color': 'Red'}"
     },
     "execution_count": 17,
     "metadata": {},
     "output_type": "execute_result"
    }
   ],
   "source": [
    "m2 = Model2(color=Color.red)\n",
    "m2.model_dump()\n"
   ],
   "metadata": {
    "collapsed": false,
    "ExecuteTime": {
     "end_time": "2024-01-20T08:38:47.638312400Z",
     "start_time": "2024-01-20T08:38:47.615223700Z"
    }
   }
  },
  {
   "cell_type": "markdown",
   "source": [
    "#### 그런데 use_enum_values=True 가 설정되었더라도, default 로 설정된 값은 제대로 이 설정이 적용되지 않음 ㅠ\n"
   ],
   "metadata": {
    "collapsed": false
   }
  },
  {
   "cell_type": "code",
   "execution_count": 19,
   "outputs": [],
   "source": [
    "class Model3(BaseModel):\n",
    "    model_config = ConfigDict(use_enum_values=True)\n",
    "\n",
    "    color: Color = Color.red\n"
   ],
   "metadata": {
    "collapsed": false,
    "ExecuteTime": {
     "end_time": "2024-01-20T08:43:20.069014700Z",
     "start_time": "2024-01-20T08:43:20.051386400Z"
    }
   }
  },
  {
   "cell_type": "code",
   "execution_count": 23,
   "outputs": [
    {
     "data": {
      "text/plain": "{'color': <Color.red: 'Red'>}"
     },
     "execution_count": 23,
     "metadata": {},
     "output_type": "execute_result"
    }
   ],
   "source": [
    "m3 = Model3()\n",
    "m3.model_dump()  # 'Red' 가 아닌 <Color:red: 'Red'> 로 표현됨 !!!\n",
    "\n",
    "# 이건 pydantic 이 default value 를 체크하지 않기 때문\n"
   ],
   "metadata": {
    "collapsed": false,
    "ExecuteTime": {
     "end_time": "2024-01-20T08:45:30.165685600Z",
     "start_time": "2024-01-20T08:45:30.146991200Z"
    }
   }
  },
  {
   "cell_type": "markdown",
   "source": [
    "#### 위의 문제를 해결할려면\n"
   ],
   "metadata": {
    "collapsed": false
   }
  },
  {
   "cell_type": "code",
   "execution_count": 25,
   "outputs": [
    {
     "data": {
      "text/plain": "Model3(color='Red')"
     },
     "execution_count": 25,
     "metadata": {},
     "output_type": "execute_result"
    }
   ],
   "source": [
    "## 방법1\n",
    "class Model3(BaseModel):\n",
    "    model_config = ConfigDict(use_enum_values=True, validate_default=True)\n",
    "\n",
    "    color: Color = Color.red\n",
    "\n",
    "Model3()\n"
   ],
   "metadata": {
    "collapsed": false,
    "ExecuteTime": {
     "end_time": "2024-01-20T08:46:41.357370300Z",
     "start_time": "2024-01-20T08:46:41.341391900Z"
    }
   }
  },
  {
   "cell_type": "code",
   "execution_count": 27,
   "outputs": [
    {
     "data": {
      "text/plain": "Model3(color='Red')"
     },
     "execution_count": 27,
     "metadata": {},
     "output_type": "execute_result"
    }
   ],
   "source": [
    "## 방법2\n",
    "\n",
    "class Model3(BaseModel):\n",
    "    model_config = ConfigDict(use_enum_values=True)\n",
    "\n",
    "    color: Color = Color.red.value\n",
    "\n",
    "Model3()\n"
   ],
   "metadata": {
    "collapsed": false,
    "ExecuteTime": {
     "end_time": "2024-01-20T08:47:21.748283300Z",
     "start_time": "2024-01-20T08:47:21.700657700Z"
    }
   }
  }
 ],
 "metadata": {
  "kernelspec": {
   "display_name": "Python 3",
   "language": "python",
   "name": "python3"
  },
  "language_info": {
   "codemirror_mode": {
    "name": "ipython",
    "version": 2
   },
   "file_extension": ".py",
   "mimetype": "text/x-python",
   "name": "python",
   "nbconvert_exporter": "python",
   "pygments_lexer": "ipython2",
   "version": "2.7.6"
  }
 },
 "nbformat": 4,
 "nbformat_minor": 0
}
