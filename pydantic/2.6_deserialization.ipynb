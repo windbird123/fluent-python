{
 "cells": [
  {
   "cell_type": "markdown",
   "source": [
    "# pydantic deserialization\n",
    "* 방법1: python dict --> model\n",
    "* 방법2: json string --> model"
   ],
   "metadata": {
    "collapsed": false
   }
  },
  {
   "cell_type": "code",
   "execution_count": 1,
   "outputs": [],
   "source": [
    "from pydantic import BaseModel"
   ],
   "metadata": {
    "collapsed": false,
    "ExecuteTime": {
     "end_time": "2024-01-08T06:47:46.459631400Z",
     "start_time": "2024-01-08T06:47:46.400873300Z"
    }
   }
  },
  {
   "cell_type": "code",
   "execution_count": 2,
   "outputs": [],
   "source": [
    "class Person(BaseModel):\n",
    "    first_name: str\n",
    "    last_name: str\n",
    "    age: int\n"
   ],
   "metadata": {
    "collapsed": false,
    "ExecuteTime": {
     "end_time": "2024-01-08T06:47:46.522069200Z",
     "start_time": "2024-01-08T06:47:46.461630300Z"
    }
   }
  },
  {
   "cell_type": "code",
   "execution_count": 3,
   "outputs": [
    {
     "data": {
      "text/plain": "Person(first_name='JM', last_name='Kim', age=20)"
     },
     "execution_count": 3,
     "metadata": {},
     "output_type": "execute_result"
    }
   ],
   "source": [
    "p = Person(first_name=\"JM\", last_name=\"Kim\", age=20)\n",
    "p\n"
   ],
   "metadata": {
    "collapsed": false,
    "ExecuteTime": {
     "end_time": "2024-01-08T06:48:22.992697600Z",
     "start_time": "2024-01-08T06:48:22.940999200Z"
    }
   }
  },
  {
   "cell_type": "markdown",
   "source": [
    "# python dict --> model"
   ],
   "metadata": {
    "collapsed": false
   }
  },
  {
   "cell_type": "code",
   "execution_count": 11,
   "outputs": [],
   "source": [
    "data = {\n",
    "    \"first_name\": \"JM\",\n",
    "    \"last_name\": \"Kim\",\n",
    "    \"age\": 20\n",
    "}\n"
   ],
   "metadata": {
    "collapsed": false,
    "ExecuteTime": {
     "end_time": "2024-01-08T06:54:46.416418900Z",
     "start_time": "2024-01-08T06:54:46.383336800Z"
    }
   }
  },
  {
   "cell_type": "code",
   "execution_count": 12,
   "outputs": [
    {
     "data": {
      "text/plain": "Person(first_name='JM', last_name='Kim', age=20)"
     },
     "execution_count": 12,
     "metadata": {},
     "output_type": "execute_result"
    }
   ],
   "source": [
    "Person(**data)\n"
   ],
   "metadata": {
    "collapsed": false,
    "ExecuteTime": {
     "end_time": "2024-01-08T06:54:48.573756Z",
     "start_time": "2024-01-08T06:54:48.555076600Z"
    }
   }
  },
  {
   "cell_type": "code",
   "execution_count": 13,
   "outputs": [
    {
     "data": {
      "text/plain": "Person(first_name='JM', last_name='Kim', age=20)"
     },
     "execution_count": 13,
     "metadata": {},
     "output_type": "execute_result"
    }
   ],
   "source": [
    "# 하지만 위의 방법은 complex model (ex: nested dict) 에서는 문제가 될 수 있으므로\n",
    "# 아래 방법을 추천한다.\n",
    "Person.model_validate(data)\n"
   ],
   "metadata": {
    "collapsed": false,
    "ExecuteTime": {
     "end_time": "2024-01-08T06:54:51.077590800Z",
     "start_time": "2024-01-08T06:54:51.057938400Z"
    }
   }
  },
  {
   "cell_type": "markdown",
   "source": [
    "# json string  --> model"
   ],
   "metadata": {
    "collapsed": false
   }
  },
  {
   "cell_type": "code",
   "execution_count": 15,
   "outputs": [],
   "source": [
    "missing_data = {\n",
    "    \"first_name\": \"JM\"\n",
    "}"
   ],
   "metadata": {
    "collapsed": false,
    "ExecuteTime": {
     "end_time": "2024-01-08T06:55:05.151655300Z",
     "start_time": "2024-01-08T06:55:05.143415700Z"
    }
   }
  },
  {
   "cell_type": "code",
   "execution_count": 16,
   "outputs": [
    {
     "ename": "ValidationError",
     "evalue": "2 validation errors for Person\nlast_name\n  Field required [type=missing, input_value={'first_name': 'JM'}, input_type=dict]\n    For further information visit https://errors.pydantic.dev/2.4/v/missing\nage\n  Field required [type=missing, input_value={'first_name': 'JM'}, input_type=dict]\n    For further information visit https://errors.pydantic.dev/2.4/v/missing",
     "output_type": "error",
     "traceback": [
      "\u001B[1;31m---------------------------------------------------------------------------\u001B[0m",
      "\u001B[1;31mValidationError\u001B[0m                           Traceback (most recent call last)",
      "Cell \u001B[1;32mIn[16], line 1\u001B[0m\n\u001B[1;32m----> 1\u001B[0m \u001B[43mPerson\u001B[49m\u001B[38;5;241;43m.\u001B[39;49m\u001B[43mmodel_validate\u001B[49m\u001B[43m(\u001B[49m\u001B[43mmissing_data\u001B[49m\u001B[43m)\u001B[49m\n",
      "File \u001B[1;32mC:\\work\\python_app\\venv\\lib\\site-packages\\pydantic\\main.py:503\u001B[0m, in \u001B[0;36mBaseModel.model_validate\u001B[1;34m(cls, obj, strict, from_attributes, context)\u001B[0m\n\u001B[0;32m    501\u001B[0m \u001B[38;5;66;03m# `__tracebackhide__` tells pytest and some other tools to omit this function from tracebacks\u001B[39;00m\n\u001B[0;32m    502\u001B[0m __tracebackhide__ \u001B[38;5;241m=\u001B[39m \u001B[38;5;28;01mTrue\u001B[39;00m\n\u001B[1;32m--> 503\u001B[0m \u001B[38;5;28;01mreturn\u001B[39;00m \u001B[38;5;28;43mcls\u001B[39;49m\u001B[38;5;241;43m.\u001B[39;49m\u001B[43m__pydantic_validator__\u001B[49m\u001B[38;5;241;43m.\u001B[39;49m\u001B[43mvalidate_python\u001B[49m\u001B[43m(\u001B[49m\n\u001B[0;32m    504\u001B[0m \u001B[43m    \u001B[49m\u001B[43mobj\u001B[49m\u001B[43m,\u001B[49m\u001B[43m \u001B[49m\u001B[43mstrict\u001B[49m\u001B[38;5;241;43m=\u001B[39;49m\u001B[43mstrict\u001B[49m\u001B[43m,\u001B[49m\u001B[43m \u001B[49m\u001B[43mfrom_attributes\u001B[49m\u001B[38;5;241;43m=\u001B[39;49m\u001B[43mfrom_attributes\u001B[49m\u001B[43m,\u001B[49m\u001B[43m \u001B[49m\u001B[43mcontext\u001B[49m\u001B[38;5;241;43m=\u001B[39;49m\u001B[43mcontext\u001B[49m\n\u001B[0;32m    505\u001B[0m \u001B[43m\u001B[49m\u001B[43m)\u001B[49m\n",
      "\u001B[1;31mValidationError\u001B[0m: 2 validation errors for Person\nlast_name\n  Field required [type=missing, input_value={'first_name': 'JM'}, input_type=dict]\n    For further information visit https://errors.pydantic.dev/2.4/v/missing\nage\n  Field required [type=missing, input_value={'first_name': 'JM'}, input_type=dict]\n    For further information visit https://errors.pydantic.dev/2.4/v/missing"
     ]
    }
   ],
   "source": [
    "Person.model_validate(missing_data)\n"
   ],
   "metadata": {
    "collapsed": false,
    "ExecuteTime": {
     "end_time": "2024-01-08T06:55:18.944666200Z",
     "start_time": "2024-01-08T06:55:18.900148800Z"
    }
   }
  },
  {
   "cell_type": "code",
   "execution_count": 19,
   "outputs": [],
   "source": [
    "data_json = '''\n",
    "{\n",
    "    \"first_name\": \"JM\",\n",
    "    \"last_name\": \"Kim\",\n",
    "    \"age\": 20\n",
    "}\n",
    "'''\n"
   ],
   "metadata": {
    "collapsed": false,
    "ExecuteTime": {
     "end_time": "2024-01-08T07:02:00.220765700Z",
     "start_time": "2024-01-08T07:02:00.209968300Z"
    }
   }
  },
  {
   "cell_type": "code",
   "execution_count": 20,
   "outputs": [
    {
     "data": {
      "text/plain": "Person(first_name='JM', last_name='Kim', age=20)"
     },
     "execution_count": 20,
     "metadata": {},
     "output_type": "execute_result"
    }
   ],
   "source": [
    "Person.model_validate_json(data_json)\n"
   ],
   "metadata": {
    "collapsed": false,
    "ExecuteTime": {
     "end_time": "2024-01-08T07:02:02.387221200Z",
     "start_time": "2024-01-08T07:02:02.371874Z"
    }
   }
  }
 ],
 "metadata": {
  "kernelspec": {
   "display_name": "Python 3",
   "language": "python",
   "name": "python3"
  },
  "language_info": {
   "codemirror_mode": {
    "name": "ipython",
    "version": 2
   },
   "file_extension": ".py",
   "mimetype": "text/x-python",
   "name": "python",
   "nbconvert_exporter": "python",
   "pygments_lexer": "ipython2",
   "version": "2.7.6"
  }
 },
 "nbformat": 4,
 "nbformat_minor": 0
}
