{
 "cells": [
  {
   "cell_type": "code",
   "execution_count": 1,
   "metadata": {
    "collapsed": true,
    "ExecuteTime": {
     "end_time": "2024-01-10T14:27:09.780002700Z",
     "start_time": "2024-01-10T14:27:09.683897200Z"
    }
   },
   "outputs": [],
   "source": [
    "from pydantic import BaseModel, ValidationError\n"
   ]
  },
  {
   "cell_type": "code",
   "execution_count": 2,
   "outputs": [],
   "source": [
    "class Circle(BaseModel):\n",
    "    center_x: int = 0\n",
    "    center_y: int = 0\n",
    "    radius: int = 1\n",
    "    name: str | None = None\n"
   ],
   "metadata": {
    "collapsed": false,
    "ExecuteTime": {
     "end_time": "2024-01-10T14:28:05.307183100Z",
     "start_time": "2024-01-10T14:28:05.237217500Z"
    }
   }
  },
  {
   "cell_type": "code",
   "execution_count": 3,
   "outputs": [
    {
     "data": {
      "text/plain": "{'center_x': FieldInfo(annotation=int, required=False, default=0),\n 'center_y': FieldInfo(annotation=int, required=False, default=0),\n 'radius': FieldInfo(annotation=int, required=False, default=1),\n 'name': FieldInfo(annotation=Union[str, NoneType], required=False)}"
     },
     "execution_count": 3,
     "metadata": {},
     "output_type": "execute_result"
    }
   ],
   "source": [
    "Circle.model_fields\n"
   ],
   "metadata": {
    "collapsed": false,
    "ExecuteTime": {
     "end_time": "2024-01-10T14:28:16.535753900Z",
     "start_time": "2024-01-10T14:28:16.525034600Z"
    }
   }
  },
  {
   "cell_type": "code",
   "execution_count": 4,
   "outputs": [],
   "source": [
    "c1 = Circle(radius=2)\n",
    "c2 = Circle(name=\"unit circle\")\n"
   ],
   "metadata": {
    "collapsed": false,
    "ExecuteTime": {
     "end_time": "2024-01-10T14:28:53.194588700Z",
     "start_time": "2024-01-10T14:28:53.186846300Z"
    }
   }
  },
  {
   "cell_type": "code",
   "execution_count": 5,
   "outputs": [
    {
     "data": {
      "text/plain": "{'radius'}"
     },
     "execution_count": 5,
     "metadata": {},
     "output_type": "execute_result"
    }
   ],
   "source": [
    "c1.model_fields_set  # default 값이 아닌 지정된 값의 필드 SET 을 리턴함\n"
   ],
   "metadata": {
    "collapsed": false,
    "ExecuteTime": {
     "end_time": "2024-01-10T14:29:56.261839800Z",
     "start_time": "2024-01-10T14:29:56.248226600Z"
    }
   }
  },
  {
   "cell_type": "code",
   "execution_count": 6,
   "outputs": [
    {
     "data": {
      "text/plain": "{'name'}"
     },
     "execution_count": 6,
     "metadata": {},
     "output_type": "execute_result"
    }
   ],
   "source": [
    "c2.model_fields_set\n"
   ],
   "metadata": {
    "collapsed": false,
    "ExecuteTime": {
     "end_time": "2024-01-10T14:30:37.344239800Z",
     "start_time": "2024-01-10T14:30:37.331364Z"
    }
   }
  },
  {
   "cell_type": "code",
   "execution_count": 8,
   "outputs": [
    {
     "data": {
      "text/plain": "{'center_x', 'center_y', 'name'}"
     },
     "execution_count": 8,
     "metadata": {},
     "output_type": "execute_result"
    }
   ],
   "source": [
    "c1.model_fields.keys() - c1.model_fields_set  # default value 를 사용한 필드들\n"
   ],
   "metadata": {
    "collapsed": false,
    "ExecuteTime": {
     "end_time": "2024-01-10T14:32:00.182916600Z",
     "start_time": "2024-01-10T14:32:00.177751800Z"
    }
   }
  },
  {
   "cell_type": "code",
   "execution_count": null,
   "outputs": [],
   "source": [
    "class Model(BaseModel):\n",
    "    center_x: int = 0\n",
    "    center_y: int = 0\n",
    "    radius: int = 1\n",
    "    name: str | None = None\n"
   ],
   "metadata": {
    "collapsed": false
   }
  }
 ],
 "metadata": {
  "kernelspec": {
   "display_name": "Python 3",
   "language": "python",
   "name": "python3"
  },
  "language_info": {
   "codemirror_mode": {
    "name": "ipython",
    "version": 2
   },
   "file_extension": ".py",
   "mimetype": "text/x-python",
   "name": "python",
   "nbconvert_exporter": "python",
   "pygments_lexer": "ipython2",
   "version": "2.7.6"
  }
 },
 "nbformat": 4,
 "nbformat_minor": 0
}
