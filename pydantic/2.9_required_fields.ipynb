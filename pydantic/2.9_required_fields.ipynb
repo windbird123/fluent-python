{
 "cells": [
  {
   "cell_type": "code",
   "execution_count": 1,
   "metadata": {
    "collapsed": true,
    "ExecuteTime": {
     "end_time": "2024-01-10T13:55:19.340606900Z",
     "start_time": "2024-01-10T13:55:19.182983Z"
    }
   },
   "outputs": [],
   "source": [
    "from pydantic import BaseModel"
   ]
  },
  {
   "cell_type": "code",
   "execution_count": 2,
   "outputs": [],
   "source": [
    "class Circle(BaseModel):\n",
    "    center: tuple[int, int] = (0, 0)\n",
    "    radius: int\n"
   ],
   "metadata": {
    "collapsed": false,
    "ExecuteTime": {
     "end_time": "2024-01-10T13:55:19.453156100Z",
     "start_time": "2024-01-10T13:55:19.329658100Z"
    }
   }
  },
  {
   "cell_type": "code",
   "execution_count": 3,
   "outputs": [],
   "source": [
    "data = {\"radius\": 1}"
   ],
   "metadata": {
    "collapsed": false,
    "ExecuteTime": {
     "end_time": "2024-01-10T13:55:19.470888400Z",
     "start_time": "2024-01-10T13:55:19.454657700Z"
    }
   }
  },
  {
   "cell_type": "code",
   "execution_count": 4,
   "outputs": [
    {
     "data": {
      "text/plain": "Circle(center=(0, 0), radius=1)"
     },
     "execution_count": 4,
     "metadata": {},
     "output_type": "execute_result"
    }
   ],
   "source": [
    "Circle.model_validate(data)\n"
   ],
   "metadata": {
    "collapsed": false,
    "ExecuteTime": {
     "end_time": "2024-01-10T13:55:19.528630100Z",
     "start_time": "2024-01-10T13:55:19.471408900Z"
    }
   }
  },
  {
   "cell_type": "markdown",
   "source": [
    "#### pydantic 은 default 로 지정한 value 에 대해 Validation check 를 하지 않는다.\n",
    "* 속도 향상을 위해 Validation check 를 하지 않는다."
   ],
   "metadata": {
    "collapsed": false
   }
  },
  {
   "cell_type": "code",
   "execution_count": 5,
   "outputs": [],
   "source": [
    "class Circle2(BaseModel):\n",
    "    center: tuple[int, int] = \"junk\"  # Error 없이 넘어감\n",
    "    radius: int\n"
   ],
   "metadata": {
    "collapsed": false,
    "ExecuteTime": {
     "end_time": "2024-01-10T13:55:19.561114600Z",
     "start_time": "2024-01-10T13:55:19.487311900Z"
    }
   }
  },
  {
   "cell_type": "code",
   "execution_count": 6,
   "outputs": [
    {
     "data": {
      "text/plain": "Circle2(center='junk', radius=3)"
     },
     "execution_count": 6,
     "metadata": {},
     "output_type": "execute_result"
    }
   ],
   "source": [
    "Circle2(radius=3)\n"
   ],
   "metadata": {
    "collapsed": false,
    "ExecuteTime": {
     "end_time": "2024-01-10T13:55:19.571422100Z",
     "start_time": "2024-01-10T13:55:19.529130400Z"
    }
   }
  },
  {
   "cell_type": "markdown",
   "source": [
    "# default value 설정의 위험\n",
    "* python 에서의 예제\n",
    "* pydantic 에서는 문제 없나? --> 문제 없다! (pydantic 에서 특별히 처리해 줌)"
   ],
   "metadata": {
    "collapsed": false
   }
  },
  {
   "cell_type": "code",
   "execution_count": 9,
   "outputs": [
    {
     "name": "stdout",
     "output_type": "stream",
     "text": [
      "[1704895123]\n",
      "[1704895123, 1704895123]\n"
     ]
    }
   ],
   "source": [
    "# default value 설정의 위험 예제\n",
    "\n",
    "from time import time\n",
    "\n",
    "def extend_list(user_list: list = []):\n",
    "    user_list.append(int(time()))\n",
    "    return user_list\n",
    "\n",
    "my_times = extend_list()\n",
    "print(my_times)\n",
    "\n",
    "my_times2 = extend_list()\n",
    "print(my_times)  # !!!\n",
    "\n",
    "# 이렇게 되는 이유는 python 에서 default value 까지 포함해 컴파일 되기 때문\n"
   ],
   "metadata": {
    "collapsed": false,
    "ExecuteTime": {
     "end_time": "2024-01-10T13:58:43.044490900Z",
     "start_time": "2024-01-10T13:58:43.038298700Z"
    }
   }
  },
  {
   "cell_type": "code",
   "execution_count": 13,
   "outputs": [
    {
     "data": {
      "text/plain": "Model(my_list=[1])"
     },
     "execution_count": 13,
     "metadata": {},
     "output_type": "execute_result"
    }
   ],
   "source": [
    "class Model(BaseModel):\n",
    "    my_list: list[int] = []\n",
    "\n",
    "m1 = Model()\n",
    "m1.my_list.append(1)\n",
    "m1\n"
   ],
   "metadata": {
    "collapsed": false,
    "ExecuteTime": {
     "end_time": "2024-01-10T14:03:18.992007600Z",
     "start_time": "2024-01-10T14:03:18.924196600Z"
    }
   }
  },
  {
   "cell_type": "code",
   "execution_count": 14,
   "outputs": [
    {
     "data": {
      "text/plain": "Model(my_list=[])"
     },
     "execution_count": 14,
     "metadata": {},
     "output_type": "execute_result"
    }
   ],
   "source": [
    "m2 = Model()\n",
    "m2  # 새로운 empty list 로 초기화 됨!\n"
   ],
   "metadata": {
    "collapsed": false,
    "ExecuteTime": {
     "end_time": "2024-01-10T14:03:32.374623800Z",
     "start_time": "2024-01-10T14:03:32.349598700Z"
    }
   }
  }
 ],
 "metadata": {
  "kernelspec": {
   "display_name": "Python 3",
   "language": "python",
   "name": "python3"
  },
  "language_info": {
   "codemirror_mode": {
    "name": "ipython",
    "version": 2
   },
   "file_extension": ".py",
   "mimetype": "text/x-python",
   "name": "python",
   "nbconvert_exporter": "python",
   "pygments_lexer": "ipython2",
   "version": "2.7.6"
  }
 },
 "nbformat": 4,
 "nbformat_minor": 0
}
