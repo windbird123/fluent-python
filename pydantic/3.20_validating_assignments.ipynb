{
 "cells": [
  {
   "cell_type": "code",
   "execution_count": 1,
   "metadata": {
    "collapsed": true,
    "ExecuteTime": {
     "end_time": "2024-01-20T07:50:47.463766400Z",
     "start_time": "2024-01-20T07:50:47.329946600Z"
    }
   },
   "outputs": [],
   "source": [
    "from pydantic import BaseModel, ConfigDict, ValidationError\n"
   ]
  },
  {
   "cell_type": "code",
   "execution_count": 2,
   "outputs": [],
   "source": [
    "class Model(BaseModel):\n",
    "    field: int\n"
   ],
   "metadata": {
    "collapsed": false,
    "ExecuteTime": {
     "end_time": "2024-01-20T07:51:41.089128Z",
     "start_time": "2024-01-20T07:51:41.022331400Z"
    }
   }
  },
  {
   "cell_type": "code",
   "execution_count": 3,
   "outputs": [],
   "source": [
    "m = Model(field=10)\n"
   ],
   "metadata": {
    "collapsed": false,
    "ExecuteTime": {
     "end_time": "2024-01-20T07:52:03.076491600Z",
     "start_time": "2024-01-20T07:52:03.068680800Z"
    }
   }
  },
  {
   "cell_type": "code",
   "execution_count": 4,
   "outputs": [
    {
     "data": {
      "text/plain": "Model(field='python')"
     },
     "execution_count": 4,
     "metadata": {},
     "output_type": "execute_result"
    }
   ],
   "source": [
    "m.field = \"python\"  # 이게 error 없이 된다 !!!\n",
    "m\n"
   ],
   "metadata": {
    "collapsed": false,
    "ExecuteTime": {
     "end_time": "2024-01-20T07:52:29.627687100Z",
     "start_time": "2024-01-20T07:52:29.597369Z"
    }
   }
  },
  {
   "cell_type": "markdown",
   "source": [
    "#### assignment 에 대해서도 체크를 하도록 할려면\n"
   ],
   "metadata": {
    "collapsed": false
   }
  },
  {
   "cell_type": "code",
   "execution_count": 9,
   "outputs": [],
   "source": [
    "class Model2(BaseModel):\n",
    "    model_config = ConfigDict(validate_assignment=True)  # assignment 때도 체크함\n",
    "\n",
    "    field: int\n"
   ],
   "metadata": {
    "collapsed": false,
    "ExecuteTime": {
     "end_time": "2024-01-20T07:54:26.551189100Z",
     "start_time": "2024-01-20T07:54:26.513949800Z"
    }
   }
  },
  {
   "cell_type": "code",
   "execution_count": 10,
   "outputs": [],
   "source": [
    "m2 = Model2(field=10)"
   ],
   "metadata": {
    "collapsed": false,
    "ExecuteTime": {
     "end_time": "2024-01-20T07:54:29.345817700Z",
     "start_time": "2024-01-20T07:54:29.329131300Z"
    }
   }
  },
  {
   "cell_type": "code",
   "execution_count": 11,
   "outputs": [
    {
     "ename": "ValidationError",
     "evalue": "1 validation error for Model2\nfield\n  Input should be a valid integer, unable to parse string as an integer [type=int_parsing, input_value='python', input_type=str]\n    For further information visit https://errors.pydantic.dev/2.4/v/int_parsing",
     "output_type": "error",
     "traceback": [
      "\u001B[1;31m---------------------------------------------------------------------------\u001B[0m",
      "\u001B[1;31mValidationError\u001B[0m                           Traceback (most recent call last)",
      "Cell \u001B[1;32mIn[11], line 1\u001B[0m\n\u001B[1;32m----> 1\u001B[0m \u001B[43mm2\u001B[49m\u001B[38;5;241;43m.\u001B[39;49m\u001B[43mfield\u001B[49m \u001B[38;5;241m=\u001B[39m \u001B[38;5;124m\"\u001B[39m\u001B[38;5;124mpython\u001B[39m\u001B[38;5;124m\"\u001B[39m\n",
      "File \u001B[1;32mC:\\work\\python_app\\venv\\lib\\site-packages\\pydantic\\main.py:796\u001B[0m, in \u001B[0;36mBaseModel.__setattr__\u001B[1;34m(self, name, value)\u001B[0m\n\u001B[0;32m    794\u001B[0m     attr\u001B[38;5;241m.\u001B[39m\u001B[38;5;21m__set__\u001B[39m(\u001B[38;5;28mself\u001B[39m, value)\n\u001B[0;32m    795\u001B[0m \u001B[38;5;28;01melif\u001B[39;00m \u001B[38;5;28mself\u001B[39m\u001B[38;5;241m.\u001B[39mmodel_config\u001B[38;5;241m.\u001B[39mget(\u001B[38;5;124m'\u001B[39m\u001B[38;5;124mvalidate_assignment\u001B[39m\u001B[38;5;124m'\u001B[39m, \u001B[38;5;28;01mNone\u001B[39;00m):\n\u001B[1;32m--> 796\u001B[0m     \u001B[38;5;28;43mself\u001B[39;49m\u001B[38;5;241;43m.\u001B[39;49m\u001B[43m__pydantic_validator__\u001B[49m\u001B[38;5;241;43m.\u001B[39;49m\u001B[43mvalidate_assignment\u001B[49m\u001B[43m(\u001B[49m\u001B[38;5;28;43mself\u001B[39;49m\u001B[43m,\u001B[49m\u001B[43m \u001B[49m\u001B[43mname\u001B[49m\u001B[43m,\u001B[49m\u001B[43m \u001B[49m\u001B[43mvalue\u001B[49m\u001B[43m)\u001B[49m\n\u001B[0;32m    797\u001B[0m \u001B[38;5;28;01melif\u001B[39;00m \u001B[38;5;28mself\u001B[39m\u001B[38;5;241m.\u001B[39mmodel_config\u001B[38;5;241m.\u001B[39mget(\u001B[38;5;124m'\u001B[39m\u001B[38;5;124mextra\u001B[39m\u001B[38;5;124m'\u001B[39m) \u001B[38;5;241m!=\u001B[39m \u001B[38;5;124m'\u001B[39m\u001B[38;5;124mallow\u001B[39m\u001B[38;5;124m'\u001B[39m \u001B[38;5;129;01mand\u001B[39;00m name \u001B[38;5;129;01mnot\u001B[39;00m \u001B[38;5;129;01min\u001B[39;00m \u001B[38;5;28mself\u001B[39m\u001B[38;5;241m.\u001B[39mmodel_fields:\n\u001B[0;32m    798\u001B[0m     \u001B[38;5;66;03m# TODO - matching error\u001B[39;00m\n\u001B[0;32m    799\u001B[0m     \u001B[38;5;28;01mraise\u001B[39;00m \u001B[38;5;167;01mValueError\u001B[39;00m(\u001B[38;5;124mf\u001B[39m\u001B[38;5;124m'\u001B[39m\u001B[38;5;124m\"\u001B[39m\u001B[38;5;132;01m{\u001B[39;00m\u001B[38;5;28mself\u001B[39m\u001B[38;5;241m.\u001B[39m\u001B[38;5;18m__class__\u001B[39m\u001B[38;5;241m.\u001B[39m\u001B[38;5;18m__name__\u001B[39m\u001B[38;5;132;01m}\u001B[39;00m\u001B[38;5;124m\"\u001B[39m\u001B[38;5;124m object has no field \u001B[39m\u001B[38;5;124m\"\u001B[39m\u001B[38;5;132;01m{\u001B[39;00mname\u001B[38;5;132;01m}\u001B[39;00m\u001B[38;5;124m\"\u001B[39m\u001B[38;5;124m'\u001B[39m)\n",
      "\u001B[1;31mValidationError\u001B[0m: 1 validation error for Model2\nfield\n  Input should be a valid integer, unable to parse string as an integer [type=int_parsing, input_value='python', input_type=str]\n    For further information visit https://errors.pydantic.dev/2.4/v/int_parsing"
     ]
    }
   ],
   "source": [
    "m2.field = \"python\"  # 이제는 에러가 발생\n"
   ],
   "metadata": {
    "collapsed": false,
    "ExecuteTime": {
     "end_time": "2024-01-20T07:54:32.519100400Z",
     "start_time": "2024-01-20T07:54:32.212716100Z"
    }
   }
  }
 ],
 "metadata": {
  "kernelspec": {
   "display_name": "Python 3",
   "language": "python",
   "name": "python3"
  },
  "language_info": {
   "codemirror_mode": {
    "name": "ipython",
    "version": 2
   },
   "file_extension": ".py",
   "mimetype": "text/x-python",
   "name": "python",
   "nbconvert_exporter": "python",
   "pygments_lexer": "ipython2",
   "version": "2.7.6"
  }
 },
 "nbformat": 4,
 "nbformat_minor": 0
}
