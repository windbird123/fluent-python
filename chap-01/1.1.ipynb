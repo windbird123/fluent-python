{
 "cells": [
  {
   "cell_type": "markdown",
   "source": [
    "# 1.1 파이썬 카드 한벌\n",
    "* 파이썬은 `collection.len()` 대신에 `len(collection)` 을 사용하는 것이 이상할 수 있다. (하지만 이게 파이썬 스타일이다.)\n",
    "  * 특별 메서드 `__len__()` 가 정의된 어느 collection 에도 `len()` 을 사용할 수 있다.\n",
    "* 예를 더 들어보면, `obj[key]` 를 호출하면, 내부적으로 `__getitem__()` 메서드를 호출한다.\n",
    "  * `collection[key]` --> `collection.__getitem__(key)`\n",
    "* `__getitem__()` 같은 메서드를 `마술 메서드(magic method)` 라 하는데, `던더(double under bar) 메서드` 라고도 한다.\n"
   ],
   "metadata": {
    "collapsed": false
   }
  },
  {
   "cell_type": "code",
   "execution_count": 6,
   "outputs": [],
   "source": [
    "from dataclasses import dataclass\n",
    "import collections\n",
    "\n",
    "\n",
    "@dataclass\n",
    "class Card:\n",
    "    rank: str\n",
    "    suit: str\n",
    "\n",
    "\n",
    "class FrenchDeck:\n",
    "    ranks: list[str] = [str(n) for n in range(2, 11)] + list('JQKA')\n",
    "    suits: list[str] = ['spades', 'diamonds', 'clubs', 'hearts']\n",
    "\n",
    "    def __init__(self):\n",
    "        self._cards: list[Card] = [Card(rank, suit) for suit in self.suits\n",
    "                                   for rank in self.ranks]\n",
    "\n",
    "    def __len__(self):\n",
    "        return len(self._cards)\n",
    "\n",
    "    def __getitem__(self, position):\n",
    "        return self._cards[position]\n"
   ],
   "metadata": {
    "collapsed": false,
    "ExecuteTime": {
     "end_time": "2023-11-12T09:05:55.531131200Z",
     "start_time": "2023-11-12T09:05:55.513405900Z"
    }
   }
  },
  {
   "cell_type": "code",
   "execution_count": 7,
   "outputs": [],
   "source": [
    "deck = FrenchDeck()"
   ],
   "metadata": {
    "collapsed": false,
    "ExecuteTime": {
     "end_time": "2023-11-12T09:05:57.383590800Z",
     "start_time": "2023-11-12T09:05:57.365839100Z"
    }
   }
  },
  {
   "cell_type": "code",
   "execution_count": 8,
   "outputs": [
    {
     "data": {
      "text/plain": "52"
     },
     "execution_count": 8,
     "metadata": {},
     "output_type": "execute_result"
    }
   ],
   "source": [
    "len(deck)"
   ],
   "metadata": {
    "collapsed": false,
    "ExecuteTime": {
     "end_time": "2023-11-12T09:06:02.310368300Z",
     "start_time": "2023-11-12T09:06:02.300316400Z"
    }
   }
  },
  {
   "cell_type": "code",
   "execution_count": 4,
   "outputs": [
    {
     "data": {
      "text/plain": "Card(number=1)"
     },
     "execution_count": 4,
     "metadata": {},
     "output_type": "execute_result"
    }
   ],
   "source": [
    "deck[0]"
   ],
   "metadata": {
    "collapsed": false,
    "ExecuteTime": {
     "end_time": "2023-11-12T09:00:39.082855400Z",
     "start_time": "2023-11-12T09:00:39.018901400Z"
    }
   }
  },
  {
   "cell_type": "code",
   "execution_count": 5,
   "outputs": [
    {
     "data": {
      "text/plain": "Card(number=10)"
     },
     "execution_count": 5,
     "metadata": {},
     "output_type": "execute_result"
    }
   ],
   "source": [
    "deck[-1]"
   ],
   "metadata": {
    "collapsed": false,
    "ExecuteTime": {
     "end_time": "2023-11-12T09:00:44.728661500Z",
     "start_time": "2023-11-12T09:00:44.712897400Z"
    }
   }
  },
  {
   "cell_type": "code",
   "execution_count": 9,
   "outputs": [
    {
     "data": {
      "text/plain": "Card(rank='J', suit='clubs')"
     },
     "execution_count": 9,
     "metadata": {},
     "output_type": "execute_result"
    }
   ],
   "source": [
    "from random import choice\n",
    "choice(deck)\n"
   ],
   "metadata": {
    "collapsed": false,
    "ExecuteTime": {
     "end_time": "2023-11-12T09:06:37.251951200Z",
     "start_time": "2023-11-12T09:06:37.246406100Z"
    }
   }
  },
  {
   "cell_type": "markdown",
   "source": [
    "#### `__getitem__()` 메서드로 슬라이싱(slicing) 도 자동으로 지원된다.\n"
   ],
   "metadata": {
    "collapsed": false
   }
  },
  {
   "cell_type": "code",
   "execution_count": 14,
   "outputs": [
    {
     "data": {
      "text/plain": "[Card(rank='2', suit='spades'),\n Card(rank='3', suit='spades'),\n Card(rank='4', suit='spades')]"
     },
     "execution_count": 14,
     "metadata": {},
     "output_type": "execute_result"
    }
   ],
   "source": [
    "deck[:3]\n"
   ],
   "metadata": {
    "collapsed": false,
    "ExecuteTime": {
     "end_time": "2023-11-12T09:11:32.752123900Z",
     "start_time": "2023-11-12T09:11:32.719162400Z"
    }
   }
  },
  {
   "cell_type": "code",
   "execution_count": null,
   "outputs": [],
   "source": [
    "for card in deck:\n",
    "    print(card)\n"
   ],
   "metadata": {
    "collapsed": false
   }
  },
  {
   "cell_type": "code",
   "execution_count": null,
   "outputs": [],
   "source": [
    "for card in reversed(deck):\n",
    "    print(card)\n"
   ],
   "metadata": {
    "collapsed": false
   }
  },
  {
   "cell_type": "markdown",
   "source": [
    "#### 컬렉션에 `__contains__()` 메서드가 없다면 `in` 연산자는 차례로 검색한다.\n"
   ],
   "metadata": {
    "collapsed": false
   }
  },
  {
   "cell_type": "code",
   "execution_count": 19,
   "outputs": [
    {
     "data": {
      "text/plain": "True"
     },
     "execution_count": 19,
     "metadata": {},
     "output_type": "execute_result"
    }
   ],
   "source": [
    "Card('Q', 'hearts') in deck\n"
   ],
   "metadata": {
    "collapsed": false,
    "ExecuteTime": {
     "end_time": "2023-11-12T09:15:44.203705400Z",
     "start_time": "2023-11-12T09:15:44.185997400Z"
    }
   }
  },
  {
   "cell_type": "code",
   "execution_count": 20,
   "outputs": [
    {
     "data": {
      "text/plain": "False"
     },
     "execution_count": 20,
     "metadata": {},
     "output_type": "execute_result"
    }
   ],
   "source": [
    "Card('Q', 'bearts') in deck\n"
   ],
   "metadata": {
    "collapsed": false,
    "ExecuteTime": {
     "end_time": "2023-11-12T09:15:57.664125700Z",
     "start_time": "2023-11-12T09:15:57.645513200Z"
    }
   }
  }
 ],
 "metadata": {
  "kernelspec": {
   "display_name": "Python 3",
   "language": "python",
   "name": "python3"
  },
  "language_info": {
   "codemirror_mode": {
    "name": "ipython",
    "version": 2
   },
   "file_extension": ".py",
   "mimetype": "text/x-python",
   "name": "python",
   "nbconvert_exporter": "python",
   "pygments_lexer": "ipython2",
   "version": "2.7.6"
  }
 },
 "nbformat": 4,
 "nbformat_minor": 0
}
