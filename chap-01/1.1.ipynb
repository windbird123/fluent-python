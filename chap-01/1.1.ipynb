{
 "cells": [
  {
   "cell_type": "markdown",
   "source": [
    "# 1.1 파이썬 카드 한벌\n",
    "* 파이썬은 `collection.len()` 대신에 `len(collection)` 을 사용하는 것이 이상할 수 있다. (하지만 이게 파이썬 스타일이다.)\n",
    "  * 특별 메서드 `__len__()` 가 정의된 어느 collection 에도 `len()` 을 사용할 수 있다.\n",
    "* 예를 더 들어보면, `obj[key]` 를 호출하면, 내부적으로 `__getitem__()` 메서드를 호출한다.\n",
    "  * `collection[key]` --> `collection.__getitem__(key)`\n",
    "* `__getitem__()` 같은 메서드를 `마술 메서드(magic method)` 라 하는데, `던더(double under bar) 메서드` 라고도 한다.\n"
   ],
   "metadata": {
    "collapsed": false
   }
  },
  {
   "cell_type": "code",
   "execution_count": 5,
   "outputs": [],
   "source": [
    "from dataclasses import dataclass\n",
    "import collections\n",
    "\n",
    "\n",
    "@dataclass\n",
    "class Card:\n",
    "    number: int\n",
    "\n",
    "\n",
    "class Deck:\n",
    "    def __init__(self):\n",
    "        self._cards: list[Card] = [Card(number=n) for n in range(1, 11)]\n",
    "\n",
    "    def __len__(self):\n",
    "        return len(self._cards)\n",
    "\n",
    "    def __getitem__(self, position):\n",
    "        return self._cards[position]\n"
   ],
   "metadata": {
    "collapsed": false,
    "ExecuteTime": {
     "end_time": "2023-10-17T07:31:42.252045500Z",
     "start_time": "2023-10-17T07:31:42.240461400Z"
    }
   }
  },
  {
   "cell_type": "code",
   "execution_count": 8,
   "outputs": [
    {
     "data": {
      "text/plain": "Card(number=10)"
     },
     "execution_count": 8,
     "metadata": {},
     "output_type": "execute_result"
    }
   ],
   "source": [
    "deck = Deck()\n",
    "deck[0]\n",
    "deck[-1]\n"
   ],
   "metadata": {
    "collapsed": false,
    "ExecuteTime": {
     "end_time": "2023-10-17T07:33:48.668343800Z",
     "start_time": "2023-10-17T07:33:48.650333700Z"
    }
   }
  },
  {
   "cell_type": "code",
   "execution_count": null,
   "outputs": [],
   "source": [],
   "metadata": {
    "collapsed": false
   }
  }
 ],
 "metadata": {
  "kernelspec": {
   "display_name": "Python 3",
   "language": "python",
   "name": "python3"
  },
  "language_info": {
   "codemirror_mode": {
    "name": "ipython",
    "version": 2
   },
   "file_extension": ".py",
   "mimetype": "text/x-python",
   "name": "python",
   "nbconvert_exporter": "python",
   "pygments_lexer": "ipython2",
   "version": "2.7.6"
  }
 },
 "nbformat": 4,
 "nbformat_minor": 0
}
