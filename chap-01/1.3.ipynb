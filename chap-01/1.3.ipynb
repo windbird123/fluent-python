{
 "cells": [
  {
   "cell_type": "markdown",
   "source": [
    "# 특별 메서드 개요 (자세한 것은 책 참고)\n",
    "* 문자열/바이트 표현: `__repr__`, `__bytes__`, ...\n",
    "* 컬렉션 에뮬레이션: `__contains__`, ...\n",
    "* 콜러블 에뮬레이션: `__call__`\n",
    "* 속성 관리: `__getattr__`, `__getattribute__`, `__setattr__`, `__dir__`, ...\n",
    "* 향상된 비교 연산자: `__lt__`, `__le__`, ..\n",
    "* 산술 연산자: `__add__`, `__sub__`, ...\n",
    "\n"
   ],
   "metadata": {
    "collapsed": false
   }
  }
 ],
 "metadata": {
  "kernelspec": {
   "display_name": "Python 3",
   "language": "python",
   "name": "python3"
  },
  "language_info": {
   "codemirror_mode": {
    "name": "ipython",
    "version": 2
   },
   "file_extension": ".py",
   "mimetype": "text/x-python",
   "name": "python",
   "nbconvert_exporter": "python",
   "pygments_lexer": "ipython2",
   "version": "2.7.6"
  }
 },
 "nbformat": 4,
 "nbformat_minor": 0
}
