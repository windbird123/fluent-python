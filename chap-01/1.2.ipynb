{
 "cells": [
  {
   "cell_type": "markdown",
   "source": [
    "# 1.2 특별 메서드는 어떻게 사용되나?\n",
    "#### 종종 특별 메서드는 암묵적으로 호출된다.\n",
    "  * 예를 들어\n",
    "    ```python\n",
    "      for i in x\n",
    "    ```\n",
    "    의 경우 실제로는 `iter(x)` 를 호출하며, 이 함수는 다시 `x.__iter__()` 를 호출한다.\n",
    "\n",
    "\n",
    "#### 특별 메서드를 호출해야 하는 경우, 일반적으로 `len()`, `iter()`, `str()` 등 관련된 내장 함수를 호출하는 것이 좋다.\n",
    "  * 다음 1.2.1 예제에서 보듯이 대부분의 특별 메서드는 코드에서 직접 호출되지 않는다.\n"
   ],
   "metadata": {
    "collapsed": false
   }
  },
  {
   "cell_type": "markdown",
   "source": [
    "# 1.2.1 수치형 흉내내기\n"
   ],
   "metadata": {
    "collapsed": false
   }
  },
  {
   "cell_type": "code",
   "execution_count": 12,
   "outputs": [],
   "source": [
    "# https://stackoverflow.com/a/33533514\n",
    "from __future__ import annotations\n",
    "\n",
    "from dataclasses import dataclass\n",
    "from math import hypot\n",
    "\n",
    "\n",
    "@dataclass\n",
    "class Vector:\n",
    "    x: float\n",
    "    y: float\n",
    "\n",
    "    def __abs__(self) -> float:\n",
    "        return hypot(self.x, self.y)\n",
    "\n",
    "    def __bool__(self) -> bool:\n",
    "        return bool(abs(self))\n",
    "\n",
    "    def __add__(self, other: Vector) -> Vector:\n",
    "        x: float = self.x + other.x\n",
    "        y: float = self.y + other.y\n",
    "        return Vector(x, y)\n",
    "\n",
    "    def __mul__(self, scalar: float) -> Vector:\n",
    "        return Vector(self.x * scalar, self.y * scalar)"
   ],
   "metadata": {
    "collapsed": false,
    "ExecuteTime": {
     "end_time": "2023-11-12T10:01:30.394745200Z",
     "start_time": "2023-11-12T10:01:30.373378300Z"
    }
   }
  },
  {
   "cell_type": "code",
   "execution_count": 13,
   "outputs": [],
   "source": [
    "v1 = Vector(2, 4)\n",
    "v2 = Vector(2, 1)\n"
   ],
   "metadata": {
    "collapsed": false,
    "ExecuteTime": {
     "end_time": "2023-11-12T10:01:30.411543100Z",
     "start_time": "2023-11-12T10:01:30.391341400Z"
    }
   }
  },
  {
   "cell_type": "code",
   "execution_count": 14,
   "outputs": [
    {
     "data": {
      "text/plain": "Vector(x=4, y=5)"
     },
     "execution_count": 14,
     "metadata": {},
     "output_type": "execute_result"
    }
   ],
   "source": [
    "v1 + v2\n"
   ],
   "metadata": {
    "collapsed": false,
    "ExecuteTime": {
     "end_time": "2023-11-12T10:01:30.459535600Z",
     "start_time": "2023-11-12T10:01:30.411543100Z"
    }
   }
  },
  {
   "cell_type": "code",
   "execution_count": 15,
   "outputs": [
    {
     "data": {
      "text/plain": "Vector(x=9, y=12)"
     },
     "execution_count": 15,
     "metadata": {},
     "output_type": "execute_result"
    }
   ],
   "source": [
    "v = Vector(3, 4)\n",
    "v * 3  # 새로운 객체가 생성됨, 3 * v 는 동작하지 않음 (13장의 __rmul()__ 특별메서드를 이용해야 함)\n"
   ],
   "metadata": {
    "collapsed": false,
    "ExecuteTime": {
     "end_time": "2023-11-12T10:01:30.460831700Z",
     "start_time": "2023-11-12T10:01:30.427231700Z"
    }
   }
  },
  {
   "cell_type": "code",
   "execution_count": 16,
   "outputs": [
    {
     "data": {
      "text/plain": "15.0"
     },
     "execution_count": 16,
     "metadata": {},
     "output_type": "execute_result"
    }
   ],
   "source": [
    "abs(v*3)\n"
   ],
   "metadata": {
    "collapsed": false,
    "ExecuteTime": {
     "end_time": "2023-11-12T10:01:30.461357800Z",
     "start_time": "2023-11-12T10:01:30.460034600Z"
    }
   }
  },
  {
   "cell_type": "markdown",
   "source": [
    "# 1.2.2 문자열 표현\n",
    "* `__repr__()`, `__str__()` 중 하나만 구현해야 한다면 `__repr__()` 메서드를 구현하라\n",
    "* `__str__()` 메서드가 없을 때 `__repr__()` 메서드를 호출하기 때문이다.\n"
   ],
   "metadata": {
    "collapsed": false
   }
  },
  {
   "cell_type": "markdown",
   "source": [
    "# 1.2.4 사용자 정의형의 불리언 값\n",
    "* `bool(x)` 는 `True` 나 `False` 를 리턴한다.\n",
    "* `bool(x)` 는 `x.__bool__()` 결과를 이용한다.\n",
    "* `__bool__()` 가 구현되어 있지 않으면 `__len__()` 을 호출해 0 이면 `False`, 그렇지 않으면 `True` 를 리턴한다.\n"
   ],
   "metadata": {
    "collapsed": false
   }
  }
 ],
 "metadata": {
  "kernelspec": {
   "display_name": "Python 3",
   "language": "python",
   "name": "python3"
  },
  "language_info": {
   "codemirror_mode": {
    "name": "ipython",
    "version": 2
   },
   "file_extension": ".py",
   "mimetype": "text/x-python",
   "name": "python",
   "nbconvert_exporter": "python",
   "pygments_lexer": "ipython2",
   "version": "2.7.6"
  }
 },
 "nbformat": 4,
 "nbformat_minor": 0
}
